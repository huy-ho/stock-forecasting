{
    "cells": [
        {
            "cell_type": "code",
            "execution_count": 1,
            "metadata": {},
            "outputs": [],
            "source": [
                "import yfinance as yf\n",
                "import pandas as pd\n",
                "import numpy as np\n",
                "import matplotlib.pyplot as plt\n",
                "import tensorflow as tf\n",
                "import seaborn as sns\n",
                "\n",
                "#sklearn\n",
                "from sklearn.preprocessing import StandardScaler, MinMaxScaler\n",
                "from sklearn import preprocessing\n",
                "from sklearn.decomposition import PCA\n",
                "from sklearn.model_selection import train_test_split\n",
                "from sklearn.cluster import KMeans\n",
                "from sklearn.ensemble import IsolationForest\n",
                "from sklearn.svm import OneClassSVM\n",
                "from sklearn.neighbors import LocalOutlierFactor\n",
                "from sklearn.metrics import mean_squared_error\n",
                "\n",
                "#keras\n",
                "from keras import layers, Input, Model\n",
                "from keras.models import Sequential\n",
                "from keras.layers import Activation, Dense, Dropout, LSTM, BatchNormalization, Flatten\n",
                "from keras.preprocessing.sequence import TimeseriesGenerator\n",
                "from keras.layers.convolutional import Conv1D, MaxPooling1D, AveragePooling1D\n",
                "from keras.layers.experimental.preprocessing import Normalization\n",
                "\n",
                "\n",
                "#others\n",
                "import os\n",
                "import json\n",
                "from pathlib import Path\n",
                "import joblib\n",
                "import folium\n",
                "import geojson\n",
                "import geopandas as gpd\n",
                "from statsmodels.tsa.arima_model import ARIMA\n",
                "from xgboost import XGBRegressor, plot_importance, plot_tree"
            ]
        },
        {
            "cell_type": "code",
            "execution_count": 2,
            "metadata": {},
            "outputs": [
                {
                    "name": "stdout",
                    "output_type": "stream",
                    "text": [
                        "[*********************100%***********************]  3 of 3 completed\n"
                    ]
                }
            ],
            "source": [
                "data = yf.download('NVDA AMD INTC', start='2014-01-01', end='2021-08-04', group_by='ticker')"
            ]
        },
        {
            "cell_type": "code",
            "execution_count": 3,
            "metadata": {},
            "outputs": [
                {
                    "data": {
                        "text/html": [
                            "<div>\n",
                            "<style scoped>\n",
                            "    .dataframe tbody tr th:only-of-type {\n",
                            "        vertical-align: middle;\n",
                            "    }\n",
                            "\n",
                            "    .dataframe tbody tr th {\n",
                            "        vertical-align: top;\n",
                            "    }\n",
                            "\n",
                            "    .dataframe thead tr th {\n",
                            "        text-align: left;\n",
                            "    }\n",
                            "\n",
                            "    .dataframe thead tr:last-of-type th {\n",
                            "        text-align: right;\n",
                            "    }\n",
                            "</style>\n",
                            "<table border=\"1\" class=\"dataframe\">\n",
                            "  <thead>\n",
                            "    <tr>\n",
                            "      <th></th>\n",
                            "      <th colspan=\"6\" halign=\"left\">INTC</th>\n",
                            "      <th colspan=\"6\" halign=\"left\">AMD</th>\n",
                            "      <th colspan=\"6\" halign=\"left\">NVDA</th>\n",
                            "    </tr>\n",
                            "    <tr>\n",
                            "      <th></th>\n",
                            "      <th>Open</th>\n",
                            "      <th>High</th>\n",
                            "      <th>Low</th>\n",
                            "      <th>Close</th>\n",
                            "      <th>Adj Close</th>\n",
                            "      <th>Volume</th>\n",
                            "      <th>Open</th>\n",
                            "      <th>High</th>\n",
                            "      <th>Low</th>\n",
                            "      <th>Close</th>\n",
                            "      <th>Adj Close</th>\n",
                            "      <th>Volume</th>\n",
                            "      <th>Open</th>\n",
                            "      <th>High</th>\n",
                            "      <th>Low</th>\n",
                            "      <th>Close</th>\n",
                            "      <th>Adj Close</th>\n",
                            "      <th>Volume</th>\n",
                            "    </tr>\n",
                            "    <tr>\n",
                            "      <th>Date</th>\n",
                            "      <th></th>\n",
                            "      <th></th>\n",
                            "      <th></th>\n",
                            "      <th></th>\n",
                            "      <th></th>\n",
                            "      <th></th>\n",
                            "      <th></th>\n",
                            "      <th></th>\n",
                            "      <th></th>\n",
                            "      <th></th>\n",
                            "      <th></th>\n",
                            "      <th></th>\n",
                            "      <th></th>\n",
                            "      <th></th>\n",
                            "      <th></th>\n",
                            "      <th></th>\n",
                            "      <th></th>\n",
                            "      <th></th>\n",
                            "    </tr>\n",
                            "  </thead>\n",
                            "  <tbody>\n",
                            "    <tr>\n",
                            "      <th>2014-01-02</th>\n",
                            "      <td>25.780001</td>\n",
                            "      <td>25.820000</td>\n",
                            "      <td>25.469999</td>\n",
                            "      <td>25.790001</td>\n",
                            "      <td>20.678694</td>\n",
                            "      <td>31833300</td>\n",
                            "      <td>3.850000</td>\n",
                            "      <td>3.980000</td>\n",
                            "      <td>3.840000</td>\n",
                            "      <td>3.950000</td>\n",
                            "      <td>3.950000</td>\n",
                            "      <td>20548400</td>\n",
                            "      <td>3.980000</td>\n",
                            "      <td>3.995000</td>\n",
                            "      <td>3.930000</td>\n",
                            "      <td>3.965000</td>\n",
                            "      <td>3.745882</td>\n",
                            "      <td>26009200</td>\n",
                            "    </tr>\n",
                            "    <tr>\n",
                            "      <th>2014-01-03</th>\n",
                            "      <td>25.860001</td>\n",
                            "      <td>25.900000</td>\n",
                            "      <td>25.600000</td>\n",
                            "      <td>25.780001</td>\n",
                            "      <td>20.670673</td>\n",
                            "      <td>27796700</td>\n",
                            "      <td>3.980000</td>\n",
                            "      <td>4.000000</td>\n",
                            "      <td>3.880000</td>\n",
                            "      <td>4.000000</td>\n",
                            "      <td>4.000000</td>\n",
                            "      <td>22887200</td>\n",
                            "      <td>3.972500</td>\n",
                            "      <td>3.980000</td>\n",
                            "      <td>3.905000</td>\n",
                            "      <td>3.917500</td>\n",
                            "      <td>3.701007</td>\n",
                            "      <td>25933200</td>\n",
                            "    </tr>\n",
                            "    <tr>\n",
                            "      <th>2014-01-06</th>\n",
                            "      <td>25.770000</td>\n",
                            "      <td>25.790001</td>\n",
                            "      <td>25.450001</td>\n",
                            "      <td>25.459999</td>\n",
                            "      <td>20.414097</td>\n",
                            "      <td>28682300</td>\n",
                            "      <td>4.010000</td>\n",
                            "      <td>4.180000</td>\n",
                            "      <td>3.990000</td>\n",
                            "      <td>4.130000</td>\n",
                            "      <td>4.130000</td>\n",
                            "      <td>42398300</td>\n",
                            "      <td>3.957500</td>\n",
                            "      <td>4.000000</td>\n",
                            "      <td>3.920000</td>\n",
                            "      <td>3.970000</td>\n",
                            "      <td>3.750607</td>\n",
                            "      <td>40949200</td>\n",
                            "    </tr>\n",
                            "    <tr>\n",
                            "      <th>2014-01-07</th>\n",
                            "      <td>25.540001</td>\n",
                            "      <td>25.730000</td>\n",
                            "      <td>25.469999</td>\n",
                            "      <td>25.590000</td>\n",
                            "      <td>20.518332</td>\n",
                            "      <td>19665100</td>\n",
                            "      <td>4.190000</td>\n",
                            "      <td>4.250000</td>\n",
                            "      <td>4.110000</td>\n",
                            "      <td>4.180000</td>\n",
                            "      <td>4.180000</td>\n",
                            "      <td>42932100</td>\n",
                            "      <td>4.010000</td>\n",
                            "      <td>4.050000</td>\n",
                            "      <td>3.982500</td>\n",
                            "      <td>4.035000</td>\n",
                            "      <td>3.812014</td>\n",
                            "      <td>33328800</td>\n",
                            "    </tr>\n",
                            "    <tr>\n",
                            "      <th>2014-01-08</th>\n",
                            "      <td>25.639999</td>\n",
                            "      <td>25.709999</td>\n",
                            "      <td>25.299999</td>\n",
                            "      <td>25.430000</td>\n",
                            "      <td>20.390043</td>\n",
                            "      <td>29680500</td>\n",
                            "      <td>4.230000</td>\n",
                            "      <td>4.260000</td>\n",
                            "      <td>4.140000</td>\n",
                            "      <td>4.180000</td>\n",
                            "      <td>4.180000</td>\n",
                            "      <td>30678700</td>\n",
                            "      <td>4.050000</td>\n",
                            "      <td>4.110000</td>\n",
                            "      <td>4.035000</td>\n",
                            "      <td>4.090000</td>\n",
                            "      <td>3.863974</td>\n",
                            "      <td>30819200</td>\n",
                            "    </tr>\n",
                            "    <tr>\n",
                            "      <th>...</th>\n",
                            "      <td>...</td>\n",
                            "      <td>...</td>\n",
                            "      <td>...</td>\n",
                            "      <td>...</td>\n",
                            "      <td>...</td>\n",
                            "      <td>...</td>\n",
                            "      <td>...</td>\n",
                            "      <td>...</td>\n",
                            "      <td>...</td>\n",
                            "      <td>...</td>\n",
                            "      <td>...</td>\n",
                            "      <td>...</td>\n",
                            "      <td>...</td>\n",
                            "      <td>...</td>\n",
                            "      <td>...</td>\n",
                            "      <td>...</td>\n",
                            "      <td>...</td>\n",
                            "      <td>...</td>\n",
                            "    </tr>\n",
                            "    <tr>\n",
                            "      <th>2021-07-28</th>\n",
                            "      <td>53.029999</td>\n",
                            "      <td>53.919998</td>\n",
                            "      <td>52.939999</td>\n",
                            "      <td>53.070000</td>\n",
                            "      <td>52.363216</td>\n",
                            "      <td>28478800</td>\n",
                            "      <td>93.440002</td>\n",
                            "      <td>98.709999</td>\n",
                            "      <td>89.650002</td>\n",
                            "      <td>97.930000</td>\n",
                            "      <td>97.930000</td>\n",
                            "      <td>140561000</td>\n",
                            "      <td>193.190002</td>\n",
                            "      <td>196.460007</td>\n",
                            "      <td>189.949997</td>\n",
                            "      <td>195.029999</td>\n",
                            "      <td>194.971725</td>\n",
                            "      <td>20219100</td>\n",
                            "    </tr>\n",
                            "    <tr>\n",
                            "      <th>2021-07-29</th>\n",
                            "      <td>53.480000</td>\n",
                            "      <td>54.099998</td>\n",
                            "      <td>53.320000</td>\n",
                            "      <td>53.700001</td>\n",
                            "      <td>52.984825</td>\n",
                            "      <td>16886600</td>\n",
                            "      <td>96.580002</td>\n",
                            "      <td>105.739998</td>\n",
                            "      <td>96.580002</td>\n",
                            "      <td>102.949997</td>\n",
                            "      <td>102.949997</td>\n",
                            "      <td>164091800</td>\n",
                            "      <td>195.190002</td>\n",
                            "      <td>198.529999</td>\n",
                            "      <td>193.279999</td>\n",
                            "      <td>196.619995</td>\n",
                            "      <td>196.561264</td>\n",
                            "      <td>19078100</td>\n",
                            "    </tr>\n",
                            "    <tr>\n",
                            "      <th>2021-07-30</th>\n",
                            "      <td>53.650002</td>\n",
                            "      <td>53.900002</td>\n",
                            "      <td>53.250000</td>\n",
                            "      <td>53.720001</td>\n",
                            "      <td>53.004562</td>\n",
                            "      <td>16460000</td>\n",
                            "      <td>101.599998</td>\n",
                            "      <td>106.970001</td>\n",
                            "      <td>101.379997</td>\n",
                            "      <td>106.190002</td>\n",
                            "      <td>106.190002</td>\n",
                            "      <td>125567000</td>\n",
                            "      <td>194.179993</td>\n",
                            "      <td>196.300003</td>\n",
                            "      <td>192.630005</td>\n",
                            "      <td>194.990005</td>\n",
                            "      <td>194.931763</td>\n",
                            "      <td>18322900</td>\n",
                            "    </tr>\n",
                            "    <tr>\n",
                            "      <th>2021-08-02</th>\n",
                            "      <td>53.990002</td>\n",
                            "      <td>54.470001</td>\n",
                            "      <td>53.540001</td>\n",
                            "      <td>53.680000</td>\n",
                            "      <td>52.965092</td>\n",
                            "      <td>18098100</td>\n",
                            "      <td>105.930000</td>\n",
                            "      <td>110.330002</td>\n",
                            "      <td>103.830002</td>\n",
                            "      <td>108.629997</td>\n",
                            "      <td>108.629997</td>\n",
                            "      <td>115581900</td>\n",
                            "      <td>197.000000</td>\n",
                            "      <td>199.610001</td>\n",
                            "      <td>193.610001</td>\n",
                            "      <td>197.500000</td>\n",
                            "      <td>197.441010</td>\n",
                            "      <td>21744400</td>\n",
                            "    </tr>\n",
                            "    <tr>\n",
                            "      <th>2021-08-03</th>\n",
                            "      <td>53.889999</td>\n",
                            "      <td>54.160000</td>\n",
                            "      <td>53.259998</td>\n",
                            "      <td>54.060001</td>\n",
                            "      <td>53.340031</td>\n",
                            "      <td>16375900</td>\n",
                            "      <td>108.150002</td>\n",
                            "      <td>114.849998</td>\n",
                            "      <td>107.660004</td>\n",
                            "      <td>112.559998</td>\n",
                            "      <td>112.559998</td>\n",
                            "      <td>157723100</td>\n",
                            "      <td>197.399994</td>\n",
                            "      <td>202.220001</td>\n",
                            "      <td>192.199997</td>\n",
                            "      <td>198.149994</td>\n",
                            "      <td>198.090790</td>\n",
                            "      <td>30181100</td>\n",
                            "    </tr>\n",
                            "  </tbody>\n",
                            "</table>\n",
                            "<p>1910 rows × 18 columns</p>\n",
                            "</div>"
                        ],
                        "text/plain": [
                            "                 INTC                                                        \\\n",
                            "                 Open       High        Low      Close  Adj Close    Volume   \n",
                            "Date                                                                          \n",
                            "2014-01-02  25.780001  25.820000  25.469999  25.790001  20.678694  31833300   \n",
                            "2014-01-03  25.860001  25.900000  25.600000  25.780001  20.670673  27796700   \n",
                            "2014-01-06  25.770000  25.790001  25.450001  25.459999  20.414097  28682300   \n",
                            "2014-01-07  25.540001  25.730000  25.469999  25.590000  20.518332  19665100   \n",
                            "2014-01-08  25.639999  25.709999  25.299999  25.430000  20.390043  29680500   \n",
                            "...               ...        ...        ...        ...        ...       ...   \n",
                            "2021-07-28  53.029999  53.919998  52.939999  53.070000  52.363216  28478800   \n",
                            "2021-07-29  53.480000  54.099998  53.320000  53.700001  52.984825  16886600   \n",
                            "2021-07-30  53.650002  53.900002  53.250000  53.720001  53.004562  16460000   \n",
                            "2021-08-02  53.990002  54.470001  53.540001  53.680000  52.965092  18098100   \n",
                            "2021-08-03  53.889999  54.160000  53.259998  54.060001  53.340031  16375900   \n",
                            "\n",
                            "                   AMD                                                  \\\n",
                            "                  Open        High         Low       Close   Adj Close   \n",
                            "Date                                                                     \n",
                            "2014-01-02    3.850000    3.980000    3.840000    3.950000    3.950000   \n",
                            "2014-01-03    3.980000    4.000000    3.880000    4.000000    4.000000   \n",
                            "2014-01-06    4.010000    4.180000    3.990000    4.130000    4.130000   \n",
                            "2014-01-07    4.190000    4.250000    4.110000    4.180000    4.180000   \n",
                            "2014-01-08    4.230000    4.260000    4.140000    4.180000    4.180000   \n",
                            "...                ...         ...         ...         ...         ...   \n",
                            "2021-07-28   93.440002   98.709999   89.650002   97.930000   97.930000   \n",
                            "2021-07-29   96.580002  105.739998   96.580002  102.949997  102.949997   \n",
                            "2021-07-30  101.599998  106.970001  101.379997  106.190002  106.190002   \n",
                            "2021-08-02  105.930000  110.330002  103.830002  108.629997  108.629997   \n",
                            "2021-08-03  108.150002  114.849998  107.660004  112.559998  112.559998   \n",
                            "\n",
                            "                             NVDA                                      \\\n",
                            "               Volume        Open        High         Low       Close   \n",
                            "Date                                                                    \n",
                            "2014-01-02   20548400    3.980000    3.995000    3.930000    3.965000   \n",
                            "2014-01-03   22887200    3.972500    3.980000    3.905000    3.917500   \n",
                            "2014-01-06   42398300    3.957500    4.000000    3.920000    3.970000   \n",
                            "2014-01-07   42932100    4.010000    4.050000    3.982500    4.035000   \n",
                            "2014-01-08   30678700    4.050000    4.110000    4.035000    4.090000   \n",
                            "...               ...         ...         ...         ...         ...   \n",
                            "2021-07-28  140561000  193.190002  196.460007  189.949997  195.029999   \n",
                            "2021-07-29  164091800  195.190002  198.529999  193.279999  196.619995   \n",
                            "2021-07-30  125567000  194.179993  196.300003  192.630005  194.990005   \n",
                            "2021-08-02  115581900  197.000000  199.610001  193.610001  197.500000   \n",
                            "2021-08-03  157723100  197.399994  202.220001  192.199997  198.149994   \n",
                            "\n",
                            "                                  \n",
                            "             Adj Close    Volume  \n",
                            "Date                              \n",
                            "2014-01-02    3.745882  26009200  \n",
                            "2014-01-03    3.701007  25933200  \n",
                            "2014-01-06    3.750607  40949200  \n",
                            "2014-01-07    3.812014  33328800  \n",
                            "2014-01-08    3.863974  30819200  \n",
                            "...                ...       ...  \n",
                            "2021-07-28  194.971725  20219100  \n",
                            "2021-07-29  196.561264  19078100  \n",
                            "2021-07-30  194.931763  18322900  \n",
                            "2021-08-02  197.441010  21744400  \n",
                            "2021-08-03  198.090790  30181100  \n",
                            "\n",
                            "[1910 rows x 18 columns]"
                        ]
                    },
                    "execution_count": 3,
                    "metadata": {},
                    "output_type": "execute_result"
                }
            ],
            "source": [
                "data"
            ]
        },
        {
            "cell_type": "code",
            "execution_count": 4,
            "metadata": {},
            "outputs": [
                {
                    "data": {
                        "text/plain": [
                            "<matplotlib.legend.Legend at 0x1af087fe310>"
                        ]
                    },
                    "execution_count": 4,
                    "metadata": {},
                    "output_type": "execute_result"
                },
                {
                    "data": {
                        "image/png": "[encoded data removed]",
                        "text/plain": [
                            "<Figure size 864x576 with 1 Axes>"
                        ]
                    },
                    "metadata": {
                        "needs_background": "light"
                    },
                    "output_type": "display_data"
                }
            ],
            "source": [
                "data['AMD']['Close'].plot(figsize=(12,8), color='red', label='AMD')\n",
                "data['NVDA']['Close'].plot(color='green', label='NVDA')\n",
                "data['INTC']['Close'].plot(color='blue', label='INTC')\n",
                "plt.legend()"
            ]
        },
        {
            "cell_type": "code",
            "execution_count": 5,
            "metadata": {},
            "outputs": [
                {
                    "data": {
                        "text/plain": [
                            "{'NVDA':                Attribute                                             Recent\n",
                            " 0                    zip                                              95051\n",
                            " 1                 sector                                         Technology\n",
                            " 2      fullTimeEmployees                                              18975\n",
                            " 3    longBusinessSummary  NVIDIA Corporation operates as a visual comput...\n",
                            " 4                   city                                        Santa Clara\n",
                            " ..                   ...                                                ...\n",
                            " 146        dividendYield                                             0.0005\n",
                            " 147              bidSize                                                800\n",
                            " 148              dayHigh                                             300.59\n",
                            " 149   regularMarketPrice                                              296.4\n",
                            " 150             logo_url               https://logo.clearbit.com/nvidia.com\n",
                            " \n",
                            " [151 rows x 2 columns],\n",
                            " 'AMD':                Attribute                                             Recent\n",
                            " 0                    zip                                              95054\n",
                            " 1                 sector                                         Technology\n",
                            " 2      fullTimeEmployees                                              12600\n",
                            " 3    longBusinessSummary  Advanced Micro Devices, Inc. operates as a sem...\n",
                            " 4                   city                                        Santa Clara\n",
                            " ..                   ...                                                ...\n",
                            " 146        dividendYield                                               None\n",
                            " 147              bidSize                                                800\n",
                            " 148              dayHigh                                            149.018\n",
                            " 149   regularMarketPrice                                             146.14\n",
                            " 150             logo_url                  https://logo.clearbit.com/amd.com\n",
                            " \n",
                            " [151 rows x 2 columns],\n",
                            " 'INTC':                Attribute                                             Recent\n",
                            " 0                    zip                                         95054-1549\n",
                            " 1                 sector                                         Technology\n",
                            " 2      fullTimeEmployees                                             117200\n",
                            " 3    longBusinessSummary  Intel Corporation designs, manufactures, and s...\n",
                            " 4                   city                                        Santa Clara\n",
                            " ..                   ...                                                ...\n",
                            " 146        dividendYield                                             0.0273\n",
                            " 147              bidSize                                                900\n",
                            " 148              dayHigh                                              51.73\n",
                            " 149   regularMarketPrice                                              51.31\n",
                            " 150             logo_url                https://logo.clearbit.com/intel.com\n",
                            " \n",
                            " [151 rows x 2 columns]}"
                        ]
                    },
                    "execution_count": 5,
                    "metadata": {},
                    "output_type": "execute_result"
                }
            ],
            "source": [
                "tickers_list = ['NVDA', 'AMD', 'INTC']\n",
                "tickers_data = {}\n",
                "\n",
                "for ticker in tickers_list:\n",
                "    ticker_object = yf.Ticker(ticker)\n",
                "\n",
                "    temp = pd.DataFrame.from_dict(ticker_object.info, orient='index')\n",
                "    temp.reset_index(inplace=True)\n",
                "    temp.columns = ['Attribute', 'Recent']\n",
                "\n",
                "    tickers_data[ticker] = temp\n",
                "\n",
                "tickers_data"
            ]
        },
        {
            "cell_type": "code",
            "execution_count": 6,
            "metadata": {},
            "outputs": [],
            "source": [
                "#full list of infos\n",
                "\n",
                "#'zip', 'sector', 'fullTimeEmployees', 'longBusinessSummary', 'city', 'phone', 'state', 'country', 'companyOfficers', 'website', 'maxAge',\n",
                "# 'address1', 'industry', 'previousClose', 'regularMarketOpen', 'twoHundredDayAverage', 'trailingAnnualDividendYield', 'payoutRatio', 'volume24Hr',\n",
                "#  'regularMarketDayHigh', 'navPrice', 'averageDailyVolume10Day', 'totalAssets', 'regularMarketPreviousClose', 'fiftyDayAverage', 'trailingAnnualDividendRate',\n",
                "#  'open', 'toCurrency', 'averageVolume10days', 'expireDate', 'yield', 'algorithm', 'dividendRate', 'exDividendDate', 'beta', 'circulatingSupply', 'startDate',\n",
                "#  'regularMarketDayLow', 'priceHint', 'currency', 'trailingPE', 'regularMarketVolume', 'lastMarket', 'maxSupply', 'openInterest', 'marketCap', 'volumeAllCurrencies',\n",
                "#  'strikePrice', 'averageVolume', 'priceToSalesTrailing12Months', 'dayLow', 'ask', 'ytdReturn', 'askSize', 'volume', 'fiftyTwoWeekHigh', 'forwardPE', 'fromCurrency',\n",
                "#  'fiveYearAvgDividendYield', 'fiftyTwoWeekLow', 'bid', 'tradeable', 'dividendYield', 'bidSize', 'dayHigh', 'exchange', 'shortName', 'longName', 'exchangeTimezoneName',\n",
                "#  'exchangeTimezoneShortName', 'isEsgPopulated', 'gmtOffSetMilliseconds', 'quoteType', 'symbol', 'messageBoardId', 'market', 'annualHoldingsTurnover', 'enterpriseToRevenue',\n",
                "#  'beta3Year', 'profitMargins', 'enterpriseToEbitda', '52WeekChange', 'morningStarRiskRating', 'forwardEps', 'revenueQuarterlyGrowth', 'sharesOutstanding', 'fundInceptionDate',\n",
                "#  'annualReportExpenseRatio', 'bookValue', 'sharesShort', 'sharesPercentSharesOut', 'fundFamily', 'lastFiscalYearEnd', 'heldPercentInstitutions', 'netIncomeToCommon',\n",
                "#  'trailingEps', 'lastDividendValue', 'SandP52WeekChange', 'priceToBook', 'heldPercentInsiders', 'nextFiscalYearEnd', 'mostRecentQuarter', 'shortRatio',\n",
                "#  'sharesShortPreviousMonthDate', 'floatShares', 'enterpriseValue', 'threeYearAverageReturn', 'lastSplitDate', 'lastSplitFactor', 'legalType', 'lastDividendDate',\n",
                "#  'morningStarOverallRating', 'earningsQuarterlyGrowth', 'dateShortInterest', 'pegRatio', 'lastCapGain', 'shortPercentOfFloat', 'sharesShortPriorMonth',\n",
                "#  'impliedSharesOutstanding', 'category', 'fiveYearAverageReturn', 'regularMarketPrice', 'logo_url'"
            ]
        },
        {
            "cell_type": "code",
            "execution_count": 7,
            "metadata": {},
            "outputs": [
                {
                    "data": {
                        "text/html": [
                            "<div>\n",
                            "<style scoped>\n",
                            "    .dataframe tbody tr th:only-of-type {\n",
                            "        vertical-align: middle;\n",
                            "    }\n",
                            "\n",
                            "    .dataframe tbody tr th {\n",
                            "        vertical-align: top;\n",
                            "    }\n",
                            "\n",
                            "    .dataframe thead th {\n",
                            "        text-align: right;\n",
                            "    }\n",
                            "</style>\n",
                            "<table border=\"1\" class=\"dataframe\">\n",
                            "  <thead>\n",
                            "    <tr style=\"text-align: right;\">\n",
                            "      <th></th>\n",
                            "      <th>Ticker</th>\n",
                            "      <th>Attributes</th>\n",
                            "      <th>Recent</th>\n",
                            "    </tr>\n",
                            "  </thead>\n",
                            "  <tbody>\n",
                            "    <tr>\n",
                            "      <th>0</th>\n",
                            "      <td>NVDA</td>\n",
                            "      <td>zip</td>\n",
                            "      <td>95051</td>\n",
                            "    </tr>\n",
                            "    <tr>\n",
                            "      <th>1</th>\n",
                            "      <td>NVDA</td>\n",
                            "      <td>sector</td>\n",
                            "      <td>Technology</td>\n",
                            "    </tr>\n",
                            "    <tr>\n",
                            "      <th>2</th>\n",
                            "      <td>NVDA</td>\n",
                            "      <td>fullTimeEmployees</td>\n",
                            "      <td>18975</td>\n",
                            "    </tr>\n",
                            "    <tr>\n",
                            "      <th>3</th>\n",
                            "      <td>NVDA</td>\n",
                            "      <td>longBusinessSummary</td>\n",
                            "      <td>NVIDIA Corporation operates as a visual comput...</td>\n",
                            "    </tr>\n",
                            "    <tr>\n",
                            "      <th>4</th>\n",
                            "      <td>NVDA</td>\n",
                            "      <td>city</td>\n",
                            "      <td>Santa Clara</td>\n",
                            "    </tr>\n",
                            "    <tr>\n",
                            "      <th>...</th>\n",
                            "      <td>...</td>\n",
                            "      <td>...</td>\n",
                            "      <td>...</td>\n",
                            "    </tr>\n",
                            "    <tr>\n",
                            "      <th>448</th>\n",
                            "      <td>INTC</td>\n",
                            "      <td>dividendYield</td>\n",
                            "      <td>0.0273</td>\n",
                            "    </tr>\n",
                            "    <tr>\n",
                            "      <th>449</th>\n",
                            "      <td>INTC</td>\n",
                            "      <td>bidSize</td>\n",
                            "      <td>900</td>\n",
                            "    </tr>\n",
                            "    <tr>\n",
                            "      <th>450</th>\n",
                            "      <td>INTC</td>\n",
                            "      <td>dayHigh</td>\n",
                            "      <td>51.73</td>\n",
                            "    </tr>\n",
                            "    <tr>\n",
                            "      <th>451</th>\n",
                            "      <td>INTC</td>\n",
                            "      <td>regularMarketPrice</td>\n",
                            "      <td>51.31</td>\n",
                            "    </tr>\n",
                            "    <tr>\n",
                            "      <th>452</th>\n",
                            "      <td>INTC</td>\n",
                            "      <td>logo_url</td>\n",
                            "      <td>https://logo.clearbit.com/intel.com</td>\n",
                            "    </tr>\n",
                            "  </tbody>\n",
                            "</table>\n",
                            "<p>453 rows × 3 columns</p>\n",
                            "</div>"
                        ],
                        "text/plain": [
                            "    Ticker           Attributes  \\\n",
                            "0     NVDA                  zip   \n",
                            "1     NVDA               sector   \n",
                            "2     NVDA    fullTimeEmployees   \n",
                            "3     NVDA  longBusinessSummary   \n",
                            "4     NVDA                 city   \n",
                            "..     ...                  ...   \n",
                            "448   INTC        dividendYield   \n",
                            "449   INTC              bidSize   \n",
                            "450   INTC              dayHigh   \n",
                            "451   INTC   regularMarketPrice   \n",
                            "452   INTC             logo_url   \n",
                            "\n",
                            "                                                Recent  \n",
                            "0                                                95051  \n",
                            "1                                           Technology  \n",
                            "2                                                18975  \n",
                            "3    NVIDIA Corporation operates as a visual comput...  \n",
                            "4                                          Santa Clara  \n",
                            "..                                                 ...  \n",
                            "448                                             0.0273  \n",
                            "449                                                900  \n",
                            "450                                              51.73  \n",
                            "451                                              51.31  \n",
                            "452                https://logo.clearbit.com/intel.com  \n",
                            "\n",
                            "[453 rows x 3 columns]"
                        ]
                    },
                    "execution_count": 7,
                    "metadata": {},
                    "output_type": "execute_result"
                }
            ],
            "source": [
                "combined_data = pd.concat(tickers_data)\n",
                "combined_data = combined_data.reset_index()\n",
                "combined_data = combined_data.drop(columns=['level_1'], axis=1)\n",
                "combined_data.columns = ['Ticker', 'Attributes', 'Recent']\n",
                "combined_data\n",
                "\n",
                "#looking at the attributes of the 3 tickers (NVDA, AMD, INTC)"
            ]
        },
        {
            "cell_type": "code",
            "execution_count": 8,
            "metadata": {},
            "outputs": [
                {
                    "data": {
                        "text/plain": [
                            "0                      zip\n",
                            "1                   sector\n",
                            "2        fullTimeEmployees\n",
                            "3      longBusinessSummary\n",
                            "4                     city\n",
                            "              ...         \n",
                            "448          dividendYield\n",
                            "449                bidSize\n",
                            "450                dayHigh\n",
                            "451     regularMarketPrice\n",
                            "452               logo_url\n",
                            "Name: Attributes, Length: 453, dtype: object"
                        ]
                    },
                    "execution_count": 8,
                    "metadata": {},
                    "output_type": "execute_result"
                }
            ],
            "source": [
                "combined_data['Attributes']"
            ]
        },
        {
            "cell_type": "code",
            "execution_count": 9,
            "metadata": {},
            "outputs": [
                {
                    "data": {
                        "text/html": [
                            "<div>\n",
                            "<style scoped>\n",
                            "    .dataframe tbody tr th:only-of-type {\n",
                            "        vertical-align: middle;\n",
                            "    }\n",
                            "\n",
                            "    .dataframe tbody tr th {\n",
                            "        vertical-align: top;\n",
                            "    }\n",
                            "\n",
                            "    .dataframe thead th {\n",
                            "        text-align: right;\n",
                            "    }\n",
                            "</style>\n",
                            "<table border=\"1\" class=\"dataframe\">\n",
                            "  <thead>\n",
                            "    <tr style=\"text-align: right;\">\n",
                            "      <th></th>\n",
                            "      <th>Ticker</th>\n",
                            "      <th>Attributes</th>\n",
                            "      <th>Recent</th>\n",
                            "    </tr>\n",
                            "  </thead>\n",
                            "  <tbody>\n",
                            "    <tr>\n",
                            "      <th>304</th>\n",
                            "      <td>INTC</td>\n",
                            "      <td>fullTimeEmployees</td>\n",
                            "      <td>117200</td>\n",
                            "    </tr>\n",
                            "    <tr>\n",
                            "      <th>2</th>\n",
                            "      <td>NVDA</td>\n",
                            "      <td>fullTimeEmployees</td>\n",
                            "      <td>18975</td>\n",
                            "    </tr>\n",
                            "    <tr>\n",
                            "      <th>153</th>\n",
                            "      <td>AMD</td>\n",
                            "      <td>fullTimeEmployees</td>\n",
                            "      <td>12600</td>\n",
                            "    </tr>\n",
                            "  </tbody>\n",
                            "</table>\n",
                            "</div>"
                        ],
                        "text/plain": [
                            "    Ticker         Attributes  Recent\n",
                            "304   INTC  fullTimeEmployees  117200\n",
                            "2     NVDA  fullTimeEmployees   18975\n",
                            "153    AMD  fullTimeEmployees   12600"
                        ]
                    },
                    "execution_count": 9,
                    "metadata": {},
                    "output_type": "execute_result"
                }
            ],
            "source": [
                "employees = combined_data[combined_data['Attributes'] == 'fullTimeEmployees']\n",
                "employees.sort_values(by='Recent', ascending=False)\n",
                "\n",
                "#INTC is a much bigger company relative in employees count"
            ]
        },
        {
            "cell_type": "code",
            "execution_count": 10,
            "metadata": {},
            "outputs": [],
            "source": [
                "market_cap = combined_data[combined_data['Attributes'] == 'marketCap'].drop(columns='Attributes', axis=1)\n",
                "company_hq = combined_data[combined_data['Attributes'] == 'city'].drop(columns='Attributes', axis=1)\n",
                "five_year_div_yield = combined_data[combined_data['Attributes'] == 'fiveYearAvgDividendYield'].drop(columns='Attributes', axis=1)\n",
                "company_hq.columns = ['Ticker', 'City']\n",
                "market_cap.columns = ['Ticker', 'Market Cap']\n",
                "five_year_div_yield.columns = ['Ticker', 'Dividend Yield (5 Years)']"
            ]
        },
        {
            "cell_type": "code",
            "execution_count": 11,
            "metadata": {},
            "outputs": [
                {
                    "data": {
                        "text/html": [
                            "<div>\n",
                            "<style scoped>\n",
                            "    .dataframe tbody tr th:only-of-type {\n",
                            "        vertical-align: middle;\n",
                            "    }\n",
                            "\n",
                            "    .dataframe tbody tr th {\n",
                            "        vertical-align: top;\n",
                            "    }\n",
                            "\n",
                            "    .dataframe thead th {\n",
                            "        text-align: right;\n",
                            "    }\n",
                            "</style>\n",
                            "<table border=\"1\" class=\"dataframe\">\n",
                            "  <thead>\n",
                            "    <tr style=\"text-align: right;\">\n",
                            "      <th></th>\n",
                            "      <th>Ticker</th>\n",
                            "      <th>Market Cap</th>\n",
                            "    </tr>\n",
                            "  </thead>\n",
                            "  <tbody>\n",
                            "    <tr>\n",
                            "      <th>132</th>\n",
                            "      <td>NVDA</td>\n",
                            "      <td>738628796416</td>\n",
                            "    </tr>\n",
                            "    <tr>\n",
                            "      <th>283</th>\n",
                            "      <td>AMD</td>\n",
                            "      <td>176480124928</td>\n",
                            "    </tr>\n",
                            "    <tr>\n",
                            "      <th>434</th>\n",
                            "      <td>INTC</td>\n",
                            "      <td>208677781504</td>\n",
                            "    </tr>\n",
                            "  </tbody>\n",
                            "</table>\n",
                            "</div>"
                        ],
                        "text/plain": [
                            "    Ticker    Market Cap\n",
                            "132   NVDA  738628796416\n",
                            "283    AMD  176480124928\n",
                            "434   INTC  208677781504"
                        ]
                    },
                    "execution_count": 11,
                    "metadata": {},
                    "output_type": "execute_result"
                }
            ],
            "source": [
                "market_cap\n",
                "#nvda 800bil\n",
                "#amd 187bil\n",
                "#intc 200bil"
            ]
        },
        {
            "cell_type": "code",
            "execution_count": 12,
            "metadata": {},
            "outputs": [
                {
                    "data": {
                        "text/html": [
                            "<div>\n",
                            "<style scoped>\n",
                            "    .dataframe tbody tr th:only-of-type {\n",
                            "        vertical-align: middle;\n",
                            "    }\n",
                            "\n",
                            "    .dataframe tbody tr th {\n",
                            "        vertical-align: top;\n",
                            "    }\n",
                            "\n",
                            "    .dataframe thead th {\n",
                            "        text-align: right;\n",
                            "    }\n",
                            "</style>\n",
                            "<table border=\"1\" class=\"dataframe\">\n",
                            "  <thead>\n",
                            "    <tr style=\"text-align: right;\">\n",
                            "      <th></th>\n",
                            "      <th>Ticker</th>\n",
                            "      <th>Market Cap</th>\n",
                            "      <th>City</th>\n",
                            "      <th>Dividend Yield (5 Years)</th>\n",
                            "    </tr>\n",
                            "  </thead>\n",
                            "  <tbody>\n",
                            "    <tr>\n",
                            "      <th>0</th>\n",
                            "      <td>NVDA</td>\n",
                            "      <td>738628796416</td>\n",
                            "      <td>Santa Clara</td>\n",
                            "      <td>0.26</td>\n",
                            "    </tr>\n",
                            "    <tr>\n",
                            "      <th>1</th>\n",
                            "      <td>AMD</td>\n",
                            "      <td>176480124928</td>\n",
                            "      <td>Santa Clara</td>\n",
                            "      <td>None</td>\n",
                            "    </tr>\n",
                            "    <tr>\n",
                            "      <th>2</th>\n",
                            "      <td>INTC</td>\n",
                            "      <td>208677781504</td>\n",
                            "      <td>Santa Clara</td>\n",
                            "      <td>2.49</td>\n",
                            "    </tr>\n",
                            "  </tbody>\n",
                            "</table>\n",
                            "</div>"
                        ],
                        "text/plain": [
                            "  Ticker    Market Cap         City Dividend Yield (5 Years)\n",
                            "0   NVDA  738628796416  Santa Clara                     0.26\n",
                            "1    AMD  176480124928  Santa Clara                     None\n",
                            "2   INTC  208677781504  Santa Clara                     2.49"
                        ]
                    },
                    "execution_count": 12,
                    "metadata": {},
                    "output_type": "execute_result"
                }
            ],
            "source": [
                "company_comparison = pd.merge(market_cap, company_hq, left_on='Ticker', right_on='Ticker')\n",
                "company_comparison = pd.merge(company_comparison, five_year_div_yield, left_on='Ticker', right_on='Ticker')\n",
                "company_comparison\n",
                "\n",
                "#high dividend yield for INTC. No dividend for AMD"
            ]
        },
        {
            "cell_type": "code",
            "execution_count": 13,
            "metadata": {},
            "outputs": [],
            "source": [
                "heldInsiders = combined_data[combined_data['Attributes'] == 'heldPercentInsiders']\n",
                "year_change = combined_data[combined_data['Attributes'] == '52WeekChange']\n"
            ]
        },
        {
            "cell_type": "code",
            "execution_count": 14,
            "metadata": {},
            "outputs": [
                {
                    "data": {
                        "text/html": [
                            "<div>\n",
                            "<style scoped>\n",
                            "    .dataframe tbody tr th:only-of-type {\n",
                            "        vertical-align: middle;\n",
                            "    }\n",
                            "\n",
                            "    .dataframe tbody tr th {\n",
                            "        vertical-align: top;\n",
                            "    }\n",
                            "\n",
                            "    .dataframe thead th {\n",
                            "        text-align: right;\n",
                            "    }\n",
                            "</style>\n",
                            "<table border=\"1\" class=\"dataframe\">\n",
                            "  <thead>\n",
                            "    <tr style=\"text-align: right;\">\n",
                            "      <th></th>\n",
                            "      <th>Ticker</th>\n",
                            "      <th>Attributes_x</th>\n",
                            "      <th>insidersHeld</th>\n",
                            "      <th>Attributes_y</th>\n",
                            "      <th>yearly_change</th>\n",
                            "    </tr>\n",
                            "  </thead>\n",
                            "  <tbody>\n",
                            "    <tr>\n",
                            "      <th>0</th>\n",
                            "      <td>NVDA</td>\n",
                            "      <td>heldPercentInsiders</td>\n",
                            "      <td>0.04079</td>\n",
                            "      <td>52WeekChange</td>\n",
                            "      <td>1.262626</td>\n",
                            "    </tr>\n",
                            "    <tr>\n",
                            "      <th>1</th>\n",
                            "      <td>AMD</td>\n",
                            "      <td>heldPercentInsiders</td>\n",
                            "      <td>0.00421</td>\n",
                            "      <td>52WeekChange</td>\n",
                            "      <td>0.567149</td>\n",
                            "    </tr>\n",
                            "    <tr>\n",
                            "      <th>2</th>\n",
                            "      <td>INTC</td>\n",
                            "      <td>heldPercentInsiders</td>\n",
                            "      <td>0.00073</td>\n",
                            "      <td>52WeekChange</td>\n",
                            "      <td>0.082855</td>\n",
                            "    </tr>\n",
                            "  </tbody>\n",
                            "</table>\n",
                            "</div>"
                        ],
                        "text/plain": [
                            "  Ticker         Attributes_x insidersHeld  Attributes_y yearly_change\n",
                            "0   NVDA  heldPercentInsiders      0.04079  52WeekChange      1.262626\n",
                            "1    AMD  heldPercentInsiders      0.00421  52WeekChange      0.567149\n",
                            "2   INTC  heldPercentInsiders      0.00073  52WeekChange      0.082855"
                        ]
                    },
                    "execution_count": 14,
                    "metadata": {},
                    "output_type": "execute_result"
                }
            ],
            "source": [
                "year_change_and_insiders = pd.merge(heldInsiders, year_change, on='Ticker')\n",
                "year_change_and_insiders = year_change_and_insiders.rename(columns={'Recent_x': \"insidersHeld\", \"Recent_y\": \"yearly_change\"})\n",
                "year_change_and_insiders"
            ]
        },
        {
            "cell_type": "code",
            "execution_count": 15,
            "metadata": {},
            "outputs": [
                {
                    "data": {
                        "text/plain": [
                            "<AxesSubplot:xlabel='insidersHeld', ylabel='yearly_change'>"
                        ]
                    },
                    "execution_count": 15,
                    "metadata": {},
                    "output_type": "execute_result"
                },
                {
                    "data": {
                        "image/png": "[encoded data removed]",
                        "text/plain": [
                            "<Figure size 432x288 with 1 Axes>"
                        ]
                    },
                    "metadata": {
                        "needs_background": "light"
                    },
                    "output_type": "display_data"
                }
            ],
            "source": [
                "sns.scatterplot(data=year_change_and_insiders, x='insidersHeld', y='yearly_change', hue='Ticker')\n",
                "#potentially looking at insiders holding for stocks to gauge the yearly_change"
            ]
        },
        {
            "cell_type": "code",
            "execution_count": 16,
            "metadata": {},
            "outputs": [
                {
                    "data": {
                        "text/plain": [
                            "'c:\\\\Users\\\\huyho\\\\OneDrive\\\\Desktop\\\\stuff\\\\p-projects\\\\stock-forecasting'"
                        ]
                    },
                    "execution_count": 16,
                    "metadata": {},
                    "output_type": "execute_result"
                }
            ],
            "source": [
                "os.getcwd()"
            ]
        },
        {
            "cell_type": "code",
            "execution_count": 17,
            "metadata": {},
            "outputs": [
                {
                    "data": {
                        "text/plain": [
                            "{(37.3691018569, -121.9582395, 'NVDA', 'green'),\n",
                            " (37.38242485333451, -121.97017259436115, 'AMD', 'red'),\n",
                            " (37.3860884556, -121.958119501, 'INTC', 'blue')}"
                        ]
                    },
                    "execution_count": 17,
                    "metadata": {},
                    "output_type": "execute_result"
                }
            ],
            "source": [
                "#coordinates of intc, nvda, and amd HQ\n",
                "latitude = [37.3860884556, 37.3691018569, 37.38242485333451]\n",
                "longitude = [-121.958119501, -121.9582395, -121.97017259436115]\n",
                "comp_ticker = ['INTC', 'NVDA', 'AMD']\n",
                "color = ['blue', 'green', 'red'] \n",
                "\n",
                "t = zip(latitude, longitude, comp_ticker, color)\n",
                "result_t = set(t)\n",
                "result_t"
            ]
        },
        {
            "cell_type": "code",
            "execution_count": 18,
            "metadata": {},
            "outputs": [
                {
                    "data": {
                        "text/html": [
                            "<div style=\"width:100%;\"><div style=\"position:relative;width:100%;height:0;padding-bottom:60%;\"><span style=\"color:#565656\">Make this Notebook Trusted to load map: File -> Trust Notebook</span><iframe src=\"about:blank\" style=\"position:absolute;width:100%;height:100%;left:0;top:0;border:none !important;\" data-html=%3C%21DOCTYPE%20html%3E%0A%3Chead%3E%20%20%20%20%0A%20%20%20%20%3Cmeta%20http-equiv%3D%22content-type%22%20content%3D%22text/html%3B%20charset%3DUTF-8%22%20/%3E%0A%20%20%20%20%0A%20%20%20%20%20%20%20%20%3Cscript%3E%0A%20%20%20%20%20%20%20%20%20%20%20%20L_NO_TOUCH%20%3D%20false%3B%0A%20%20%20%20%20%20%20%20%20%20%20%20L_DISABLE_3D%20%3D%20false%3B%0A%20%20%20%20%20%20%20%20%3C/script%3E%0A%20%20%20%20%0A%20%20%20%20%3Cstyle%3Ehtml%2C%20body%20%7Bwidth%3A%20100%25%3Bheight%3A%20100%25%3Bmargin%3A%200%3Bpadding%3A%200%3B%7D%3C/style%3E%0A%20%20%20%20%3Cstyle%3E%23map%20%7Bposition%3Aabsolute%3Btop%3A0%3Bbottom%3A0%3Bright%3A0%3Bleft%3A0%3B%7D%3C/style%3E%0A%20%20%20%20%3Cscript%20src%3D%22https%3A//cdn.jsdelivr.net/npm/leaflet%401.6.0/dist/leaflet.js%22%3E%3C/script%3E%0A%20%20%20%20%3Cscript%20src%3D%22https%3A//code.jquery.com/jquery-1.12.4.min.js%22%3E%3C/script%3E%0A%20%20%20%20%3Cscript%20src%3D%22https%3A//maxcdn.bootstrapcdn.com/bootstrap/3.2.0/js/bootstrap.min.js%22%3E%3C/script%3E%0A%20%20%20%20%3Cscript%20src%3D%22https%3A//cdnjs.cloudflare.com/ajax/libs/Leaflet.awesome-markers/2.0.2/leaflet.awesome-markers.js%22%3E%3C/script%3E%0A%20%20%20%20%3Clink%20rel%3D%22stylesheet%22%20href%3D%22https%3A//cdn.jsdelivr.net/npm/leaflet%401.6.0/dist/leaflet.css%22/%3E%0A%20%20%20%20%3Clink%20rel%3D%22stylesheet%22%20href%3D%22https%3A//maxcdn.bootstrapcdn.com/bootstrap/3.2.0/css/bootstrap.min.css%22/%3E%0A%20%20%20%20%3Clink%20rel%3D%22stylesheet%22%20href%3D%22https%3A//maxcdn.bootstrapcdn.com/bootstrap/3.2.0/css/bootstrap-theme.min.css%22/%3E%0A%20%20%20%20%3Clink%20rel%3D%22stylesheet%22%20href%3D%22https%3A//maxcdn.bootstrapcdn.com/font-awesome/4.6.3/css/font-awesome.min.css%22/%3E%0A%20%20%20%20%3Clink%20rel%3D%22stylesheet%22%20href%3D%22https%3A//cdnjs.cloudflare.com/ajax/libs/Leaflet.awesome-markers/2.0.2/leaflet.awesome-markers.css%22/%3E%0A%20%20%20%20%3Clink%20rel%3D%22stylesheet%22%20href%3D%22https%3A//cdn.jsdelivr.net/gh/python-visualization/folium/folium/templates/leaflet.awesome.rotate.min.css%22/%3E%0A%20%20%20%20%0A%20%20%20%20%20%20%20%20%20%20%20%20%3Cmeta%20name%3D%22viewport%22%20content%3D%22width%3Ddevice-width%2C%0A%20%20%20%20%20%20%20%20%20%20%20%20%20%20%20%20initial-scale%3D1.0%2C%20maximum-scale%3D1.0%2C%20user-scalable%3Dno%22%20/%3E%0A%20%20%20%20%20%20%20%20%20%20%20%20%3Cstyle%3E%0A%20%20%20%20%20%20%20%20%20%20%20%20%20%20%20%20%23map_58f8850830d14b4799cf67bdf0526464%20%7B%0A%20%20%20%20%20%20%20%20%20%20%20%20%20%20%20%20%20%20%20%20position%3A%20relative%3B%0A%20%20%20%20%20%20%20%20%20%20%20%20%20%20%20%20%20%20%20%20width%3A%20100.0%25%3B%0A%20%20%20%20%20%20%20%20%20%20%20%20%20%20%20%20%20%20%20%20height%3A%20100.0%25%3B%0A%20%20%20%20%20%20%20%20%20%20%20%20%20%20%20%20%20%20%20%20left%3A%200.0%25%3B%0A%20%20%20%20%20%20%20%20%20%20%20%20%20%20%20%20%20%20%20%20top%3A%200.0%25%3B%0A%20%20%20%20%20%20%20%20%20%20%20%20%20%20%20%20%7D%0A%20%20%20%20%20%20%20%20%20%20%20%20%3C/style%3E%0A%20%20%20%20%20%20%20%20%0A%3C/head%3E%0A%3Cbody%3E%20%20%20%20%0A%20%20%20%20%0A%20%20%20%20%20%20%20%20%20%20%20%20%3Cdiv%20class%3D%22folium-map%22%20id%3D%22map_58f8850830d14b4799cf67bdf0526464%22%20%3E%3C/div%3E%0A%20%20%20%20%20%20%20%20%0A%3C/body%3E%0A%3Cscript%3E%20%20%20%20%0A%20%20%20%20%0A%20%20%20%20%20%20%20%20%20%20%20%20var%20map_58f8850830d14b4799cf67bdf0526464%20%3D%20L.map%28%0A%20%20%20%20%20%20%20%20%20%20%20%20%20%20%20%20%22map_58f8850830d14b4799cf67bdf0526464%22%2C%0A%20%20%20%20%20%20%20%20%20%20%20%20%20%20%20%20%7B%0A%20%20%20%20%20%20%20%20%20%20%20%20%20%20%20%20%20%20%20%20center%3A%20%5B37.3541%2C%20-121.9552%5D%2C%0A%20%20%20%20%20%20%20%20%20%20%20%20%20%20%20%20%20%20%20%20crs%3A%20L.CRS.EPSG3857%2C%0A%20%20%20%20%20%20%20%20%20%20%20%20%20%20%20%20%20%20%20%20zoom%3A%2012%2C%0A%20%20%20%20%20%20%20%20%20%20%20%20%20%20%20%20%20%20%20%20zoomControl%3A%20true%2C%0A%20%20%20%20%20%20%20%20%20%20%20%20%20%20%20%20%20%20%20%20preferCanvas%3A%20false%2C%0A%20%20%20%20%20%20%20%20%20%20%20%20%20%20%20%20%7D%0A%20%20%20%20%20%20%20%20%20%20%20%20%29%3B%0A%0A%20%20%20%20%20%20%20%20%20%20%20%20%0A%0A%20%20%20%20%20%20%20%20%0A%20%20%20%20%0A%20%20%20%20%20%20%20%20%20%20%20%20var%20tile_layer_ee49ee3780a944b3a6fcb8ad83836d8d%20%3D%20L.tileLayer%28%0A%20%20%20%20%20%20%20%20%20%20%20%20%20%20%20%20%22https%3A//%7Bs%7D.tile.openstreetmap.org/%7Bz%7D/%7Bx%7D/%7By%7D.png%22%2C%0A%20%20%20%20%20%20%20%20%20%20%20%20%20%20%20%20%7B%22attribution%22%3A%20%22Data%20by%20%5Cu0026copy%3B%20%5Cu003ca%20href%3D%5C%22http%3A//openstreetmap.org%5C%22%5Cu003eOpenStreetMap%5Cu003c/a%5Cu003e%2C%20under%20%5Cu003ca%20href%3D%5C%22http%3A//www.openstreetmap.org/copyright%5C%22%5Cu003eODbL%5Cu003c/a%5Cu003e.%22%2C%20%22detectRetina%22%3A%20false%2C%20%22maxNativeZoom%22%3A%2018%2C%20%22maxZoom%22%3A%2018%2C%20%22minZoom%22%3A%200%2C%20%22noWrap%22%3A%20false%2C%20%22opacity%22%3A%201%2C%20%22subdomains%22%3A%20%22abc%22%2C%20%22tms%22%3A%20false%7D%0A%20%20%20%20%20%20%20%20%20%20%20%20%29.addTo%28map_58f8850830d14b4799cf67bdf0526464%29%3B%0A%20%20%20%20%20%20%20%20%0A%20%20%20%20%0A%20%20%20%20%20%20%20%20%20%20%20%20var%20marker_502933094fd84530adb37cc3b66c21be%20%3D%20L.marker%28%0A%20%20%20%20%20%20%20%20%20%20%20%20%20%20%20%20%5B37.38242485333451%2C%20-121.97017259436115%5D%2C%0A%20%20%20%20%20%20%20%20%20%20%20%20%20%20%20%20%7B%7D%0A%20%20%20%20%20%20%20%20%20%20%20%20%29.addTo%28map_58f8850830d14b4799cf67bdf0526464%29%3B%0A%20%20%20%20%20%20%20%20%0A%20%20%20%20%0A%20%20%20%20%20%20%20%20%20%20%20%20var%20icon_3f6da2d72cf5465093bfa644a075a138%20%3D%20L.AwesomeMarkers.icon%28%0A%20%20%20%20%20%20%20%20%20%20%20%20%20%20%20%20%7B%22extraClasses%22%3A%20%22fa-rotate-0%22%2C%20%22icon%22%3A%20%22info-sign%22%2C%20%22iconColor%22%3A%20%22white%22%2C%20%22markerColor%22%3A%20%22red%22%2C%20%22prefix%22%3A%20%22glyphicon%22%7D%0A%20%20%20%20%20%20%20%20%20%20%20%20%29%3B%0A%20%20%20%20%20%20%20%20%20%20%20%20marker_502933094fd84530adb37cc3b66c21be.setIcon%28icon_3f6da2d72cf5465093bfa644a075a138%29%3B%0A%20%20%20%20%20%20%20%20%0A%20%20%20%20%0A%20%20%20%20%20%20%20%20var%20popup_4a1a520cc93b4cdaafec323fc876d18e%20%3D%20L.popup%28%7B%22maxWidth%22%3A%20%22100%25%22%7D%29%3B%0A%0A%20%20%20%20%20%20%20%20%0A%20%20%20%20%20%20%20%20%20%20%20%20var%20html_5e30a1e8d99b479995bf43006f16e585%20%3D%20%24%28%60%3Cdiv%20id%3D%22html_5e30a1e8d99b479995bf43006f16e585%22%20style%3D%22width%3A%20100.0%25%3B%20height%3A%20100.0%25%3B%22%3EAMD%3C/div%3E%60%29%5B0%5D%3B%0A%20%20%20%20%20%20%20%20%20%20%20%20popup_4a1a520cc93b4cdaafec323fc876d18e.setContent%28html_5e30a1e8d99b479995bf43006f16e585%29%3B%0A%20%20%20%20%20%20%20%20%0A%0A%20%20%20%20%20%20%20%20marker_502933094fd84530adb37cc3b66c21be.bindPopup%28popup_4a1a520cc93b4cdaafec323fc876d18e%29%0A%20%20%20%20%20%20%20%20%3B%0A%0A%20%20%20%20%20%20%20%20%0A%20%20%20%20%0A%20%20%20%20%0A%20%20%20%20%20%20%20%20%20%20%20%20var%20marker_72f781d25cdd4db08732502e90bcbea3%20%3D%20L.marker%28%0A%20%20%20%20%20%20%20%20%20%20%20%20%20%20%20%20%5B37.3691018569%2C%20-121.9582395%5D%2C%0A%20%20%20%20%20%20%20%20%20%20%20%20%20%20%20%20%7B%7D%0A%20%20%20%20%20%20%20%20%20%20%20%20%29.addTo%28map_58f8850830d14b4799cf67bdf0526464%29%3B%0A%20%20%20%20%20%20%20%20%0A%20%20%20%20%0A%20%20%20%20%20%20%20%20%20%20%20%20var%20icon_3c197e28d6ed4bef8b304311f4e6896f%20%3D%20L.AwesomeMarkers.icon%28%0A%20%20%20%20%20%20%20%20%20%20%20%20%20%20%20%20%7B%22extraClasses%22%3A%20%22fa-rotate-0%22%2C%20%22icon%22%3A%20%22info-sign%22%2C%20%22iconColor%22%3A%20%22white%22%2C%20%22markerColor%22%3A%20%22green%22%2C%20%22prefix%22%3A%20%22glyphicon%22%7D%0A%20%20%20%20%20%20%20%20%20%20%20%20%29%3B%0A%20%20%20%20%20%20%20%20%20%20%20%20marker_72f781d25cdd4db08732502e90bcbea3.setIcon%28icon_3c197e28d6ed4bef8b304311f4e6896f%29%3B%0A%20%20%20%20%20%20%20%20%0A%20%20%20%20%0A%20%20%20%20%20%20%20%20var%20popup_9398994fcf5647a98cd9cbb456ae12c9%20%3D%20L.popup%28%7B%22maxWidth%22%3A%20%22100%25%22%7D%29%3B%0A%0A%20%20%20%20%20%20%20%20%0A%20%20%20%20%20%20%20%20%20%20%20%20var%20html_4b45c92f51e24e87a88f4e07d28b69bc%20%3D%20%24%28%60%3Cdiv%20id%3D%22html_4b45c92f51e24e87a88f4e07d28b69bc%22%20style%3D%22width%3A%20100.0%25%3B%20height%3A%20100.0%25%3B%22%3ENVDA%3C/div%3E%60%29%5B0%5D%3B%0A%20%20%20%20%20%20%20%20%20%20%20%20popup_9398994fcf5647a98cd9cbb456ae12c9.setContent%28html_4b45c92f51e24e87a88f4e07d28b69bc%29%3B%0A%20%20%20%20%20%20%20%20%0A%0A%20%20%20%20%20%20%20%20marker_72f781d25cdd4db08732502e90bcbea3.bindPopup%28popup_9398994fcf5647a98cd9cbb456ae12c9%29%0A%20%20%20%20%20%20%20%20%3B%0A%0A%20%20%20%20%20%20%20%20%0A%20%20%20%20%0A%20%20%20%20%0A%20%20%20%20%20%20%20%20%20%20%20%20var%20marker_1934e19e8b984ec8a45aa5913b18cc45%20%3D%20L.marker%28%0A%20%20%20%20%20%20%20%20%20%20%20%20%20%20%20%20%5B37.3860884556%2C%20-121.958119501%5D%2C%0A%20%20%20%20%20%20%20%20%20%20%20%20%20%20%20%20%7B%7D%0A%20%20%20%20%20%20%20%20%20%20%20%20%29.addTo%28map_58f8850830d14b4799cf67bdf0526464%29%3B%0A%20%20%20%20%20%20%20%20%0A%20%20%20%20%0A%20%20%20%20%20%20%20%20%20%20%20%20var%20icon_5590bbdef41842b38138dccf894d9f09%20%3D%20L.AwesomeMarkers.icon%28%0A%20%20%20%20%20%20%20%20%20%20%20%20%20%20%20%20%7B%22extraClasses%22%3A%20%22fa-rotate-0%22%2C%20%22icon%22%3A%20%22info-sign%22%2C%20%22iconColor%22%3A%20%22white%22%2C%20%22markerColor%22%3A%20%22blue%22%2C%20%22prefix%22%3A%20%22glyphicon%22%7D%0A%20%20%20%20%20%20%20%20%20%20%20%20%29%3B%0A%20%20%20%20%20%20%20%20%20%20%20%20marker_1934e19e8b984ec8a45aa5913b18cc45.setIcon%28icon_5590bbdef41842b38138dccf894d9f09%29%3B%0A%20%20%20%20%20%20%20%20%0A%20%20%20%20%0A%20%20%20%20%20%20%20%20var%20popup_d8f590a15cef43beba9b059dbbeee116%20%3D%20L.popup%28%7B%22maxWidth%22%3A%20%22100%25%22%7D%29%3B%0A%0A%20%20%20%20%20%20%20%20%0A%20%20%20%20%20%20%20%20%20%20%20%20var%20html_638488b1117b486d978ebace8bf0bfb7%20%3D%20%24%28%60%3Cdiv%20id%3D%22html_638488b1117b486d978ebace8bf0bfb7%22%20style%3D%22width%3A%20100.0%25%3B%20height%3A%20100.0%25%3B%22%3EINTC%3C/div%3E%60%29%5B0%5D%3B%0A%20%20%20%20%20%20%20%20%20%20%20%20popup_d8f590a15cef43beba9b059dbbeee116.setContent%28html_638488b1117b486d978ebace8bf0bfb7%29%3B%0A%20%20%20%20%20%20%20%20%0A%0A%20%20%20%20%20%20%20%20marker_1934e19e8b984ec8a45aa5913b18cc45.bindPopup%28popup_d8f590a15cef43beba9b059dbbeee116%29%0A%20%20%20%20%20%20%20%20%3B%0A%0A%20%20%20%20%20%20%20%20%0A%20%20%20%20%0A%3C/script%3E onload=\"this.contentDocument.open();this.contentDocument.write(    decodeURIComponent(this.getAttribute('data-html')));this.contentDocument.close();\" allowfullscreen webkitallowfullscreen mozallowfullscreen></iframe></div></div>"
                        ],
                        "text/plain": [
                            "<folium.folium.Map at 0x1af09b2c640>"
                        ]
                    },
                    "execution_count": 18,
                    "metadata": {},
                    "output_type": "execute_result"
                }
            ],
            "source": [
                "#given that they are all headquartered in Santa Clara, let's visualize the proximity of these companies\n",
                "\n",
                "m = folium.Map([37.3541, -121.9552], zoom_start=12)\n",
                "\n",
                "for lat, lon, ticker, color in result_t:\n",
                "    folium.Marker([lat, lon], popup=ticker, icon=folium.Icon(color=color)).add_to(m)\n",
                "m"
            ]
        },
        {
            "cell_type": "code",
            "execution_count": 19,
            "metadata": {},
            "outputs": [
                {
                    "name": "stderr",
                    "output_type": "stream",
                    "text": [
                        "<ipython-input-19-3d10f01f01a9>:2: SettingWithCopyWarning: \n",
                        "A value is trying to be set on a copy of a slice from a DataFrame.\n",
                        "Try using .loc[row_indexer,col_indexer] = value instead\n",
                        "\n",
                        "See the caveats in the documentation: https://pandas.pydata.org/pandas-docs/stable/user_guide/indexing.html#returning-a-view-versus-a-copy\n",
                        "  nvda_table['Month'] = nvda_table['Open'].index.month\n",
                        "<ipython-input-19-3d10f01f01a9>:6: SettingWithCopyWarning: \n",
                        "A value is trying to be set on a copy of a slice from a DataFrame.\n",
                        "Try using .loc[row_indexer,col_indexer] = value instead\n",
                        "\n",
                        "See the caveats in the documentation: https://pandas.pydata.org/pandas-docs/stable/user_guide/indexing.html#returning-a-view-versus-a-copy\n",
                        "  amd_table['Month'] = amd_table['Open'].index.month\n",
                        "<ipython-input-19-3d10f01f01a9>:10: SettingWithCopyWarning: \n",
                        "A value is trying to be set on a copy of a slice from a DataFrame.\n",
                        "Try using .loc[row_indexer,col_indexer] = value instead\n",
                        "\n",
                        "See the caveats in the documentation: https://pandas.pydata.org/pandas-docs/stable/user_guide/indexing.html#returning-a-view-versus-a-copy\n",
                        "  intc_table['Month'] = intc_table['Open'].index.month\n"
                    ]
                },
                {
                    "data": {
                        "text/html": [
                            "<div>\n",
                            "<style scoped>\n",
                            "    .dataframe tbody tr th:only-of-type {\n",
                            "        vertical-align: middle;\n",
                            "    }\n",
                            "\n",
                            "    .dataframe tbody tr th {\n",
                            "        vertical-align: top;\n",
                            "    }\n",
                            "\n",
                            "    .dataframe thead th {\n",
                            "        text-align: right;\n",
                            "    }\n",
                            "</style>\n",
                            "<table border=\"1\" class=\"dataframe\">\n",
                            "  <thead>\n",
                            "    <tr style=\"text-align: right;\">\n",
                            "      <th></th>\n",
                            "      <th>Open</th>\n",
                            "      <th>High</th>\n",
                            "      <th>Low</th>\n",
                            "      <th>Close</th>\n",
                            "      <th>Adj Close</th>\n",
                            "      <th>Volume</th>\n",
                            "    </tr>\n",
                            "    <tr>\n",
                            "      <th>Month</th>\n",
                            "      <th></th>\n",
                            "      <th></th>\n",
                            "      <th></th>\n",
                            "      <th></th>\n",
                            "      <th></th>\n",
                            "      <th></th>\n",
                            "    </tr>\n",
                            "  </thead>\n",
                            "  <tbody>\n",
                            "    <tr>\n",
                            "      <th>1</th>\n",
                            "      <td>42.463148</td>\n",
                            "      <td>43.017901</td>\n",
                            "      <td>41.996975</td>\n",
                            "      <td>42.496667</td>\n",
                            "      <td>38.431226</td>\n",
                            "      <td>3.470906e+07</td>\n",
                            "    </tr>\n",
                            "    <tr>\n",
                            "      <th>2</th>\n",
                            "      <td>43.011765</td>\n",
                            "      <td>43.510654</td>\n",
                            "      <td>42.551307</td>\n",
                            "      <td>43.058889</td>\n",
                            "      <td>39.273797</td>\n",
                            "      <td>2.577163e+07</td>\n",
                            "    </tr>\n",
                            "    <tr>\n",
                            "      <th>3</th>\n",
                            "      <td>42.904057</td>\n",
                            "      <td>43.660000</td>\n",
                            "      <td>42.314514</td>\n",
                            "      <td>42.972000</td>\n",
                            "      <td>39.231479</td>\n",
                            "      <td>3.082112e+07</td>\n",
                            "    </tr>\n",
                            "    <tr>\n",
                            "      <th>4</th>\n",
                            "      <td>44.498976</td>\n",
                            "      <td>45.017289</td>\n",
                            "      <td>43.961506</td>\n",
                            "      <td>44.499157</td>\n",
                            "      <td>40.624378</td>\n",
                            "      <td>2.816236e+07</td>\n",
                            "    </tr>\n",
                            "    <tr>\n",
                            "      <th>5</th>\n",
                            "      <td>42.757798</td>\n",
                            "      <td>43.185774</td>\n",
                            "      <td>42.358095</td>\n",
                            "      <td>42.792678</td>\n",
                            "      <td>39.183769</td>\n",
                            "      <td>2.311837e+07</td>\n",
                            "    </tr>\n",
                            "    <tr>\n",
                            "      <th>6</th>\n",
                            "      <td>43.275581</td>\n",
                            "      <td>43.639070</td>\n",
                            "      <td>42.816337</td>\n",
                            "      <td>43.219477</td>\n",
                            "      <td>39.612779</td>\n",
                            "      <td>2.665397e+07</td>\n",
                            "    </tr>\n",
                            "    <tr>\n",
                            "      <th>7</th>\n",
                            "      <td>43.044706</td>\n",
                            "      <td>43.443294</td>\n",
                            "      <td>42.615588</td>\n",
                            "      <td>43.063529</td>\n",
                            "      <td>39.409490</td>\n",
                            "      <td>2.866230e+07</td>\n",
                            "    </tr>\n",
                            "    <tr>\n",
                            "      <th>8</th>\n",
                            "      <td>39.818397</td>\n",
                            "      <td>40.153782</td>\n",
                            "      <td>39.471667</td>\n",
                            "      <td>39.815833</td>\n",
                            "      <td>36.071714</td>\n",
                            "      <td>2.524401e+07</td>\n",
                            "    </tr>\n",
                            "    <tr>\n",
                            "      <th>9</th>\n",
                            "      <td>40.490210</td>\n",
                            "      <td>40.894825</td>\n",
                            "      <td>40.134895</td>\n",
                            "      <td>40.551608</td>\n",
                            "      <td>36.685905</td>\n",
                            "      <td>2.592782e+07</td>\n",
                            "    </tr>\n",
                            "    <tr>\n",
                            "      <th>10</th>\n",
                            "      <td>41.792564</td>\n",
                            "      <td>42.256923</td>\n",
                            "      <td>41.340897</td>\n",
                            "      <td>41.812500</td>\n",
                            "      <td>37.862971</td>\n",
                            "      <td>2.988442e+07</td>\n",
                            "    </tr>\n",
                            "    <tr>\n",
                            "      <th>11</th>\n",
                            "      <td>42.894296</td>\n",
                            "      <td>43.332324</td>\n",
                            "      <td>42.541901</td>\n",
                            "      <td>42.978521</td>\n",
                            "      <td>39.113757</td>\n",
                            "      <td>2.510098e+07</td>\n",
                            "    </tr>\n",
                            "    <tr>\n",
                            "      <th>12</th>\n",
                            "      <td>43.717279</td>\n",
                            "      <td>44.171224</td>\n",
                            "      <td>43.277007</td>\n",
                            "      <td>43.715238</td>\n",
                            "      <td>39.765493</td>\n",
                            "      <td>2.627277e+07</td>\n",
                            "    </tr>\n",
                            "  </tbody>\n",
                            "</table>\n",
                            "</div>"
                        ],
                        "text/plain": [
                            "            Open       High        Low      Close  Adj Close        Volume\n",
                            "Month                                                                     \n",
                            "1      42.463148  43.017901  41.996975  42.496667  38.431226  3.470906e+07\n",
                            "2      43.011765  43.510654  42.551307  43.058889  39.273797  2.577163e+07\n",
                            "3      42.904057  43.660000  42.314514  42.972000  39.231479  3.082112e+07\n",
                            "4      44.498976  45.017289  43.961506  44.499157  40.624378  2.816236e+07\n",
                            "5      42.757798  43.185774  42.358095  42.792678  39.183769  2.311837e+07\n",
                            "6      43.275581  43.639070  42.816337  43.219477  39.612779  2.665397e+07\n",
                            "7      43.044706  43.443294  42.615588  43.063529  39.409490  2.866230e+07\n",
                            "8      39.818397  40.153782  39.471667  39.815833  36.071714  2.524401e+07\n",
                            "9      40.490210  40.894825  40.134895  40.551608  36.685905  2.592782e+07\n",
                            "10     41.792564  42.256923  41.340897  41.812500  37.862971  2.988442e+07\n",
                            "11     42.894296  43.332324  42.541901  42.978521  39.113757  2.510098e+07\n",
                            "12     43.717279  44.171224  43.277007  43.715238  39.765493  2.627277e+07"
                        ]
                    },
                    "execution_count": 19,
                    "metadata": {},
                    "output_type": "execute_result"
                }
            ],
            "source": [
                "nvda_table = data['NVDA']\n",
                "nvda_table['Month'] = nvda_table['Open'].index.month\n",
                "nvda_month_grouped = nvda_table.groupby('Month').mean()\n",
                "\n",
                "amd_table = data['AMD']\n",
                "amd_table['Month'] = amd_table['Open'].index.month\n",
                "amd_month_grouped = amd_table.groupby('Month').mean()\n",
                "\n",
                "intc_table = data['INTC']\n",
                "intc_table['Month'] = intc_table['Open'].index.month\n",
                "intc_month_grouped = intc_table.groupby('Month').mean()\n",
                "\n",
                "intc_month_grouped"
            ]
        },
        {
            "cell_type": "code",
            "execution_count": 20,
            "metadata": {},
            "outputs": [
                {
                    "data": {
                        "text/plain": [
                            "<AxesSubplot:xlabel='Month', ylabel='Volume'>"
                        ]
                    },
                    "execution_count": 20,
                    "metadata": {},
                    "output_type": "execute_result"
                },
                {
                    "data": {
                        "image/png": "[encoded data removed]",
                        "text/plain": [
                            "<Figure size 432x288 with 1 Axes>"
                        ]
                    },
                    "metadata": {
                        "needs_background": "light"
                    },
                    "output_type": "display_data"
                }
            ],
            "source": [
                "sns.lineplot(x=nvda_month_grouped['Volume'].index, y=nvda_month_grouped['Volume'], label='NVDA')\n",
                "sns.lineplot(x=amd_month_grouped['Volume'].index, y=amd_month_grouped['Volume'], label='AMD')\n",
                "sns.lineplot(x=intc_month_grouped['Volume'].index, y=intc_month_grouped['Volume'], label='INTC')\n",
                "#volume seems to decrease significantly during the summer months"
            ]
        },
        {
            "cell_type": "markdown",
            "metadata": {},
            "source": [
                "# Examine data before applying time-series\n",
                "\n",
                "Common time-series data patterns:\n",
                "\n",
                "- Level: The average value in the series\n",
                "- Trend: Increases, decreases, stable\n",
                "- Seasonal or Periodic: Does the pattern repeats over time\n",
                "- Cyclical: Pattern that increases and decreases but usually related to non-seasonal activity, ie. business cycles\n",
                "- Random or Irregular Variations: Increases and decreases that don't have any apparent patterns\n",
                "\n",
                "<p2> The stock market prices probably falls into the Random and Irregular variations. For the model to be perfect, we must take into account financial records, social media activities, mergers and acquisitions, etc. Simply using previous prices will not yield a good model. However, we must work with the limited data that we possess."
            ]
        },
        {
            "cell_type": "code",
            "execution_count": 21,
            "metadata": {},
            "outputs": [],
            "source": [
                "import statsmodels.api as sm"
            ]
        },
        {
            "cell_type": "code",
            "execution_count": 22,
            "metadata": {},
            "outputs": [],
            "source": [
                "def decomp():\n",
                "    pass\n"
            ]
        },
        {
            "cell_type": "markdown",
            "metadata": {},
            "source": [
                "# Using ARIMA\n",
                "\n",
                "<p1> ARIMA models expect p, d, q as input parameters <p1>\n",
                "1. p is the number of lag observations.\n",
                "2. d is the degree of differencing.\n",
                "3. q is the size/width of the moving average window. \n"
            ]
        },
        {
            "cell_type": "code",
            "execution_count": 23,
            "metadata": {},
            "outputs": [
                {
                    "data": {
                        "text/html": [
                            "<div>\n",
                            "<style scoped>\n",
                            "    .dataframe tbody tr th:only-of-type {\n",
                            "        vertical-align: middle;\n",
                            "    }\n",
                            "\n",
                            "    .dataframe tbody tr th {\n",
                            "        vertical-align: top;\n",
                            "    }\n",
                            "\n",
                            "    .dataframe thead th {\n",
                            "        text-align: right;\n",
                            "    }\n",
                            "</style>\n",
                            "<table border=\"1\" class=\"dataframe\">\n",
                            "  <thead>\n",
                            "    <tr style=\"text-align: right;\">\n",
                            "      <th></th>\n",
                            "      <th>Close</th>\n",
                            "    </tr>\n",
                            "    <tr>\n",
                            "      <th>Date</th>\n",
                            "      <th></th>\n",
                            "    </tr>\n",
                            "  </thead>\n",
                            "  <tbody>\n",
                            "    <tr>\n",
                            "      <th>2014-01-02</th>\n",
                            "      <td>3.965000</td>\n",
                            "    </tr>\n",
                            "    <tr>\n",
                            "      <th>2014-01-03</th>\n",
                            "      <td>3.917500</td>\n",
                            "    </tr>\n",
                            "    <tr>\n",
                            "      <th>2014-01-06</th>\n",
                            "      <td>3.970000</td>\n",
                            "    </tr>\n",
                            "    <tr>\n",
                            "      <th>2014-01-07</th>\n",
                            "      <td>4.035000</td>\n",
                            "    </tr>\n",
                            "    <tr>\n",
                            "      <th>2014-01-08</th>\n",
                            "      <td>4.090000</td>\n",
                            "    </tr>\n",
                            "    <tr>\n",
                            "      <th>...</th>\n",
                            "      <td>...</td>\n",
                            "    </tr>\n",
                            "    <tr>\n",
                            "      <th>2021-07-28</th>\n",
                            "      <td>195.029999</td>\n",
                            "    </tr>\n",
                            "    <tr>\n",
                            "      <th>2021-07-29</th>\n",
                            "      <td>196.619995</td>\n",
                            "    </tr>\n",
                            "    <tr>\n",
                            "      <th>2021-07-30</th>\n",
                            "      <td>194.990005</td>\n",
                            "    </tr>\n",
                            "    <tr>\n",
                            "      <th>2021-08-02</th>\n",
                            "      <td>197.500000</td>\n",
                            "    </tr>\n",
                            "    <tr>\n",
                            "      <th>2021-08-03</th>\n",
                            "      <td>198.149994</td>\n",
                            "    </tr>\n",
                            "  </tbody>\n",
                            "</table>\n",
                            "<p>1910 rows × 1 columns</p>\n",
                            "</div>"
                        ],
                        "text/plain": [
                            "                 Close\n",
                            "Date                  \n",
                            "2014-01-02    3.965000\n",
                            "2014-01-03    3.917500\n",
                            "2014-01-06    3.970000\n",
                            "2014-01-07    4.035000\n",
                            "2014-01-08    4.090000\n",
                            "...                ...\n",
                            "2021-07-28  195.029999\n",
                            "2021-07-29  196.619995\n",
                            "2021-07-30  194.990005\n",
                            "2021-08-02  197.500000\n",
                            "2021-08-03  198.149994\n",
                            "\n",
                            "[1910 rows x 1 columns]"
                        ]
                    },
                    "execution_count": 23,
                    "metadata": {},
                    "output_type": "execute_result"
                }
            ],
            "source": [
                "nvda = pd.DataFrame(data['NVDA']['Close'])\n",
                "nvda.columns = ['Close']\n",
                "nvda"
            ]
        },
        {
            "cell_type": "code",
            "execution_count": 24,
            "metadata": {},
            "outputs": [],
            "source": [
                "#Before we can do ARIMA, we should look at the autocorrelation\n",
                "\n",
                "from pandas.plotting import lag_plot"
            ]
        },
        {
            "cell_type": "code",
            "execution_count": 25,
            "metadata": {},
            "outputs": [
                {
                    "data": {
                        "text/plain": [
                            "<AxesSubplot:xlabel='y(t)', ylabel='y(t + 5)'>"
                        ]
                    },
                    "execution_count": 25,
                    "metadata": {},
                    "output_type": "execute_result"
                },
                {
                    "data": {
                        "image/png": "[encoded data removed]",
                        "text/plain": [
                            "<Figure size 432x288 with 1 Axes>"
                        ]
                    },
                    "metadata": {
                        "needs_background": "light"
                    },
                    "output_type": "display_data"
                }
            ],
            "source": [
                "lag_plot(nvda['Close'], lag=5)"
            ]
        },
        {
            "cell_type": "code",
            "execution_count": 26,
            "metadata": {},
            "outputs": [
                {
                    "name": "stdout",
                    "output_type": "stream",
                    "text": [
                        "training set shape (1528, 1)\n",
                        "testing set shape (382, 1)\n"
                    ]
                }
            ],
            "source": [
                "train_nvda, test_nvda = nvda[0:int(len(nvda) * 0.8)], nvda[int(len(nvda) * 0.8):]\n",
                "print('training set shape', train_nvda.shape)\n",
                "print('testing set shape', test_nvda.shape)"
            ]
        },
        {
            "cell_type": "code",
            "execution_count": 27,
            "metadata": {},
            "outputs": [
                {
                    "data": {
                        "text/plain": [
                            "[<matplotlib.lines.Line2D at 0x1af0b0f77c0>]"
                        ]
                    },
                    "execution_count": 27,
                    "metadata": {},
                    "output_type": "execute_result"
                },
                {
                    "data": {
                        "image/png": "[encoded data removed]",
                        "text/plain": [
                            "<Figure size 432x288 with 1 Axes>"
                        ]
                    },
                    "metadata": {
                        "needs_background": "light"
                    },
                    "output_type": "display_data"
                }
            ],
            "source": [
                "plt.plot(train_nvda)\n",
                "plt.plot(test_nvda)"
            ]
        },
        {
            "cell_type": "code",
            "execution_count": 28,
            "metadata": {},
            "outputs": [],
            "source": [
                "train_nvda, test_nvda = train_nvda.values, test_nvda.values"
            ]
        },
        {
            "cell_type": "code",
            "execution_count": 29,
            "metadata": {},
            "outputs": [
                {
                    "name": "stderr",
                    "output_type": "stream",
                    "text": [
                        "C:\\Users\\huyho\\AppData\\Local\\Programs\\Python\\Python39\\lib\\site-packages\\statsmodels\\tsa\\arima_model.py:472: FutureWarning: \n",
                        "statsmodels.tsa.arima_model.ARMA and statsmodels.tsa.arima_model.ARIMA have\n",
                        "been deprecated in favor of statsmodels.tsa.arima.model.ARIMA (note the .\n",
                        "between arima and model) and\n",
                        "statsmodels.tsa.SARIMAX. These will be removed after the 0.12 release.\n",
                        "\n",
                        "statsmodels.tsa.arima.model.ARIMA makes use of the statespace framework and\n",
                        "is both well tested and maintained.\n",
                        "\n",
                        "To silence this warning and continue using ARMA and ARIMA until they are\n",
                        "removed, use:\n",
                        "\n",
                        "import warnings\n",
                        "warnings.filterwarnings('ignore', 'statsmodels.tsa.arima_model.ARMA',\n",
                        "                        FutureWarning)\n",
                        "warnings.filterwarnings('ignore', 'statsmodels.tsa.arima_model.ARIMA',\n",
                        "                        FutureWarning)\n",
                        "\n",
                        "  warnings.warn(ARIMA_DEPRECATION_WARN, FutureWarning)\n"
                    ]
                },
                {
                    "name": "stdout",
                    "output_type": "stream",
                    "text": [
                        "Testing MSE is 12.550908427899701\n"
                    ]
                }
            ],
            "source": [
                "history = [x for x in train_nvda]\n",
                "model_predictions = []\n",
                "N_test_observations = len(test_nvda) #382\n",
                "\n",
                "for time_point in range(N_test_observations):\n",
                "    model = ARIMA(history, order=(4, 1, 0))\n",
                "    model_fit = model.fit()\n",
                "    output = model_fit.forecast()\n",
                "    yhat = output[0]\n",
                "    model_predictions.append(yhat)\n",
                "    true_test_value = test_nvda[time_point]\n",
                "    history.append(true_test_value)\n",
                "\n",
                "mse_error = mean_squared_error(test_nvda, model_predictions)\n",
                "print('Testing MSE is', mse_error)"
            ]
        },
        {
            "cell_type": "code",
            "execution_count": 30,
            "metadata": {},
            "outputs": [],
            "source": [
                "from matplotlib.pyplot import figure"
            ]
        },
        {
            "cell_type": "code",
            "execution_count": 31,
            "metadata": {},
            "outputs": [
                {
                    "data": {
                        "image/png": "[encoded data removed]",
                        "text/plain": [
                            "<Figure size 864x720 with 1 Axes>"
                        ]
                    },
                    "metadata": {
                        "needs_background": "light"
                    },
                    "output_type": "display_data"
                }
            ],
            "source": [
                "test_set_range = nvda[int(len(nvda) * 0.8):].index\n",
                "\n",
                "plt.figure(figsize=(12,10))\n",
                "plt.plot(test_set_range, model_predictions, color='blue', label='Prediction Values', marker='o')\n",
                "plt.plot(test_set_range, test_nvda, color='red', label='Actual Values')\n",
                "\n",
                "plt.title('Price Prediction')\n",
                "plt.legend()\n",
                "plt.show()"
            ]
        },
        {
            "cell_type": "code",
            "execution_count": 32,
            "metadata": {},
            "outputs": [
                {
                    "data": {
                        "image/png": "[encoded data removed]",
                        "text/plain": [
                            "<Figure size 864x720 with 1 Axes>"
                        ]
                    },
                    "metadata": {
                        "needs_background": "light"
                    },
                    "output_type": "display_data"
                }
            ],
            "source": [
                "#looking at a smaller subset\n",
                "plt.figure(figsize=(12,10))\n",
                "plt.plot(test_set_range[10:70], model_predictions[10:70], color='blue', label='Prediction Values', marker='o')\n",
                "plt.plot(test_set_range[10:70], test_nvda[10:70], color='red', label='Actual Values')\n",
                "\n",
                "plt.title('Price Prediction')\n",
                "plt.legend()\n",
                "plt.show()"
            ]
        },
        {
            "cell_type": "code",
            "execution_count": 33,
            "metadata": {},
            "outputs": [],
            "source": [
                "from statsmodels.tsa.statespace.sarimax import SARIMAX"
            ]
        },
        {
            "cell_type": "code",
            "execution_count": 34,
            "metadata": {},
            "outputs": [
                {
                    "data": {
                        "text/plain": [
                            "array([[ 3.96499991],\n",
                            "       [ 3.91750002],\n",
                            "       [ 3.97000003],\n",
                            "       ...,\n",
                            "       [62.61999893],\n",
                            "       [60.04999924],\n",
                            "       [61.99250031]])"
                        ]
                    },
                    "execution_count": 34,
                    "metadata": {},
                    "output_type": "execute_result"
                }
            ],
            "source": [
                "y_arima = train_nvda\n",
                "y_arima"
            ]
        },
        {
            "cell_type": "code",
            "execution_count": 35,
            "metadata": {},
            "outputs": [],
            "source": [
                "armamodel = SARIMAX(y_arima, order = (1, 0,1))"
            ]
        },
        {
            "cell_type": "code",
            "execution_count": 36,
            "metadata": {},
            "outputs": [
                {
                    "name": "stderr",
                    "output_type": "stream",
                    "text": [
                        "C:\\Users\\huyho\\AppData\\Local\\Programs\\Python\\Python39\\lib\\site-packages\\statsmodels\\tsa\\statespace\\sarimax.py:966: UserWarning: Non-stationary starting autoregressive parameters found. Using zeros as starting parameters.\n",
                        "  warn('Non-stationary starting autoregressive parameters'\n"
                    ]
                }
            ],
            "source": [
                "armamodel = armamodel.fit()"
            ]
        },
        {
            "cell_type": "code",
            "execution_count": 37,
            "metadata": {},
            "outputs": [
                {
                    "data": {
                        "text/plain": [
                            "array([[60.12841585, 63.69292779],\n",
                            "       [59.42262843, 64.3715409 ],\n",
                            "       [58.87216559, 64.89483538],\n",
                            "       [58.40407893, 65.33575965],\n",
                            "       [57.98921437, 65.72346778],\n",
                            "       [57.61239977, 66.07313191],\n",
                            "       [57.26454307, 66.3938441 ],\n",
                            "       [56.9396853 , 66.69156331],\n",
                            "       [56.63366964, 66.97044638],\n",
                            "       [56.34345968, 67.2335297 ],\n",
                            "       [56.06675726, 67.48311142],\n",
                            "       [55.80177323, 67.72098072],\n",
                            "       [55.54708225, 67.94856291],\n",
                            "       [55.301527  , 68.16701532],\n",
                            "       [55.06415244, 68.377293  ],\n",
                            "       [54.83415953, 68.58019497],\n",
                            "       [54.61087172, 68.77639777],\n",
                            "       [54.39371019, 68.96648025],\n",
                            "       [54.18217509, 69.15094224],\n",
                            "       [53.97583129, 69.33021888],\n",
                            "       [53.77429716, 69.50469178],\n",
                            "       [53.57723584, 69.67469781],\n",
                            "       [53.38434818, 69.84053612],\n",
                            "       [53.19536709, 70.00247379],\n",
                            "       [53.01005292, 70.16075048],\n",
                            "       [52.82818966, 70.3155822 ],\n",
                            "       [52.64958181, 70.46716443],\n",
                            "       [52.47405176, 70.61567479],\n",
                            "       [52.30143754, 70.76127526],\n",
                            "       [52.131591  , 70.90411398],\n",
                            "       [51.96437617, 71.04432691],\n",
                            "       [51.79966795, 71.18203916],\n",
                            "       [51.63735087, 71.31736619],\n",
                            "       [51.47731816, 71.45041479],\n",
                            "       [51.31947076, 71.58128398],\n",
                            "       [51.16371667, 71.71006579],\n",
                            "       [51.00997017, 71.83684593],\n",
                            "       [50.8581513 , 71.96170435],\n",
                            "       [50.7081853 , 72.08471583],\n",
                            "       [50.56000215, 72.20595037],\n",
                            "       [50.41353617, 72.32547365],\n",
                            "       [50.26872565, 72.44334739],\n",
                            "       [50.12551251, 72.55962965],\n",
                            "       [49.98384204, 72.67437517],\n",
                            "       [49.84366257, 72.78763558],\n",
                            "       [49.70492531, 72.8994597 ],\n",
                            "       [49.56758408, 73.00989369],\n",
                            "       [49.43159514, 73.1189813 ],\n",
                            "       [49.29691701, 73.22676399],\n",
                            "       [49.16351031, 73.33328117],\n",
                            "       [49.03133761, 73.43857025],\n",
                            "       [48.90036329, 73.54266684],\n",
                            "       [48.77055344, 73.64560486],\n",
                            "       [48.64187574, 73.74741664],\n",
                            "       [48.51429933, 73.84813301],\n",
                            "       [48.38779477, 73.94778343],\n",
                            "       [48.26233391, 74.04639605],\n",
                            "       [48.13788983, 74.14399778],\n",
                            "       [48.01443675, 74.2406144 ],\n",
                            "       [47.89194998, 74.3362706 ],\n",
                            "       [47.77040585, 74.43099004],\n",
                            "       [47.64978167, 74.52479543],\n",
                            "       [47.53005562, 74.61770857],\n",
                            "       [47.41120677, 74.70975039],\n",
                            "       [47.29321499, 74.80094103],\n",
                            "       [47.17606092, 74.89129984],\n",
                            "       [47.05972593, 74.98084545],\n",
                            "       [46.94419207, 75.0695958 ],\n",
                            "       [46.82944206, 75.15756819],\n",
                            "       [46.71545923, 75.24477928],\n",
                            "       [46.6022275 , 75.33124513],\n",
                            "       [46.48973136, 75.41698127],\n",
                            "       [46.37795583, 75.50200268],\n",
                            "       [46.26688644, 75.58632382],\n",
                            "       [46.1565092 , 75.66995868],\n",
                            "       [46.04681059, 75.75292077],\n",
                            "       [45.93777752, 75.83522319],\n",
                            "       [45.82939735, 75.91687859],\n",
                            "       [45.7216578 , 75.99789922],\n",
                            "       [45.61454702, 76.07829696],\n",
                            "       [45.50805348, 76.1580833 ],\n",
                            "       [45.40216605, 76.23726941],\n",
                            "       [45.2968739 , 76.31586609],\n",
                            "       [45.19216655, 76.39388384],\n",
                            "       [45.08803381, 76.47133283],\n",
                            "       [44.98446579, 76.54822295],\n",
                            "       [44.88145291, 76.62456379],\n",
                            "       [44.77898583, 76.70036468],\n",
                            "       [44.67705549, 76.77563469],\n",
                            "       [44.57565309, 76.85038261],\n",
                            "       [44.47477004, 76.92461702],\n",
                            "       [44.37439803, 76.99834625],\n",
                            "       [44.27452894, 77.07157841],\n",
                            "       [44.17515487, 77.14432138],\n",
                            "       [44.07626815, 77.21658285],\n",
                            "       [43.97786129, 77.28837031],\n",
                            "       [43.879927  , 77.35969104],\n",
                            "       [43.78245817, 77.43055215],\n",
                            "       [43.68544789, 77.50096055],\n",
                            "       [43.58888939, 77.570923  ],\n",
                            "       [43.4927761 , 77.64044608],\n",
                            "       [43.3971016 , 77.70953621],\n",
                            "       [43.30185962, 77.77819966],\n",
                            "       [43.20704404, 77.84644254],\n",
                            "       [43.1126489 , 77.91427081],\n",
                            "       [43.01866837, 77.9816903 ],\n",
                            "       [42.92509675, 78.0487067 ],\n",
                            "       [42.83192849, 78.11532558],\n",
                            "       [42.73915816, 78.18155235],\n",
                            "       [42.64678044, 78.24739234],\n",
                            "       [42.55479015, 78.31285072],\n",
                            "       [42.46318222, 78.37793256],\n",
                            "       [42.37195168, 78.44264284],\n",
                            "       [42.28109369, 78.50698639],\n",
                            "       [42.19060349, 78.57096796],\n",
                            "       [42.10047645, 78.6345922 ],\n",
                            "       [42.01070801, 78.69786364],\n",
                            "       [41.92129373, 78.76078674],\n",
                            "       [41.83222926, 78.82336585],\n",
                            "       [41.74351034, 78.88560523],\n",
                            "       [41.65513277, 78.94750906],\n",
                            "       [41.56709248, 79.00908142],\n",
                            "       [41.47938546, 79.07032632],\n",
                            "       [41.39200778, 79.13124769],\n",
                            "       [41.3049556 , 79.19184937],\n",
                            "       [41.21822513, 79.25213513],\n",
                            "       [41.13181269, 79.31210868],\n",
                            "       [41.04571465, 79.37177363],\n",
                            "       [40.95992744, 79.43113354],\n",
                            "       [40.8744476 , 79.49019189],\n",
                            "       [40.78927169, 79.54895211],\n",
                            "       [40.70439636, 79.60741754],\n",
                            "       [40.61981831, 79.66559148],\n",
                            "       [40.53553432, 79.72347717],\n",
                            "       [40.45154122, 79.78107776],\n",
                            "       [40.36783588, 79.83839638],\n",
                            "       [40.28441526, 79.89543607],\n",
                            "       [40.20127634, 79.95219984],\n",
                            "       [40.1184162 , 80.00869064],\n",
                            "       [40.03583192, 80.06491135],\n",
                            "       [39.95352066, 80.12086482],\n",
                            "       [39.87147964, 80.17655385],\n",
                            "       [39.7897061 , 80.23198118],\n",
                            "       [39.70819735, 80.2871495 ],\n",
                            "       [39.62695074, 80.34206146],\n",
                            "       [39.54596366, 80.39671968],\n",
                            "       [39.46523355, 80.4511267 ],\n",
                            "       [39.38475789, 80.50528504],\n",
                            "       [39.3045342 , 80.55919719],\n",
                            "       [39.22456005, 80.61286558],\n",
                            "       [39.14483305, 80.66629259],\n",
                            "       [39.06535083, 80.71948059],\n",
                            "       [38.98611109, 80.77243189],\n",
                            "       [38.90711153, 80.82514876],\n",
                            "       [38.82834993, 80.87763346],\n",
                            "       [38.74982406, 80.92988818],\n",
                            "       [38.67153176, 80.98191511],\n",
                            "       [38.59347089, 81.03371636],\n",
                            "       [38.51563934, 81.08529406],\n",
                            "       [38.43803505, 81.13665027],\n",
                            "       [38.36065596, 81.18778702],\n",
                            "       [38.28350009, 81.23870633],\n",
                            "       [38.20656544, 81.28941017],\n",
                            "       [38.12985007, 81.33990048],\n",
                            "       [38.05335205, 81.3901792 ],\n",
                            "       [37.97706951, 81.44024819],\n",
                            "       [37.90100058, 81.49010933],\n",
                            "       [37.82514342, 81.53976445],\n",
                            "       [37.74949623, 81.58921535],\n",
                            "       [37.67405723, 81.63846381],\n",
                            "       [37.59882466, 81.68751159],\n",
                            "       [37.5237968 , 81.7363604 ],\n",
                            "       [37.44897194, 81.78501197],\n",
                            "       [37.37434839, 81.83346796],\n",
                            "       [37.29992451, 81.88173002],\n",
                            "       [37.22569866, 81.9297998 ],\n",
                            "       [37.15166923, 81.9776789 ],\n",
                            "       [37.07783464, 82.0253689 ],\n",
                            "       [37.00419332, 82.07287137],\n",
                            "       [36.93074372, 82.12018785],\n",
                            "       [36.85748432, 82.16731986],\n",
                            "       [36.78441363, 82.2142689 ],\n",
                            "       [36.71153016, 82.26103646],\n",
                            "       [36.63883244, 82.30762399],\n",
                            "       [36.56631905, 82.35403293],\n",
                            "       [36.49398855, 82.4002647 ],\n",
                            "       [36.42183954, 82.44632071],\n",
                            "       [36.34987064, 82.49220234],\n",
                            "       [36.27808048, 82.53791095],\n",
                            "       [36.20646772, 82.58344789],\n",
                            "       [36.13503101, 82.6288145 ],\n",
                            "       [36.06376905, 82.67401208],\n",
                            "       [35.99268055, 82.71904193],\n",
                            "       [35.92176421, 82.76390533],\n",
                            "       [35.85101878, 82.80860354],\n",
                            "       [35.780443  , 82.8531378 ],\n",
                            "       [35.71003566, 82.89750936],\n",
                            "       [35.63979552, 82.94171943],\n",
                            "       [35.56972138, 82.9857692 ],\n",
                            "       [35.49981207, 83.02965986],\n",
                            "       [35.4300664 , 83.07339258],\n",
                            "       [35.36048323, 83.11696853],\n",
                            "       [35.2910614 , 83.16038883],\n",
                            "       [35.22179979, 83.20365462],\n",
                            "       [35.15269727, 83.24676702],\n",
                            "       [35.08375276, 83.28972713],\n",
                            "       [35.01496516, 83.33253602],\n",
                            "       [34.94633338, 83.37519479],\n",
                            "       [34.87785638, 83.41770449],\n",
                            "       [34.80953309, 83.46006617],\n",
                            "       [34.74136249, 83.50228086],\n",
                            "       [34.67334354, 83.5443496 ],\n",
                            "       [34.60547522, 83.5862734 ],\n",
                            "       [34.53775654, 83.62805326],\n",
                            "       [34.47018651, 83.66969016],\n",
                            "       [34.40276413, 83.71118509],\n",
                            "       [34.33548846, 83.75253902],\n",
                            "       [34.26835852, 83.7937529 ],\n",
                            "       [34.20137338, 83.83482767],\n",
                            "       [34.13453209, 83.87576427],\n",
                            "       [34.06783373, 83.91656363],\n",
                            "       [34.00127738, 83.95722666],\n",
                            "       [33.93486214, 83.99775426],\n",
                            "       [33.86858712, 84.03814733],\n",
                            "       [33.80245143, 84.07840675],\n",
                            "       [33.73645418, 84.1185334 ],\n",
                            "       [33.67059453, 84.15852814],\n",
                            "       [33.60487161, 84.19839182],\n",
                            "       [33.53928457, 84.23812529],\n",
                            "       [33.47383257, 84.2777294 ],\n",
                            "       [33.4085148 , 84.31720496],\n",
                            "       [33.34333041, 84.35655279],\n",
                            "       [33.27827862, 84.39577371],\n",
                            "       [33.2133586 , 84.43486852],\n",
                            "       [33.14856957, 84.47383801],\n",
                            "       [33.08391074, 84.51268297],\n",
                            "       [33.01938133, 84.55140417],\n",
                            "       [32.95498058, 84.59000238],\n",
                            "       [32.89070771, 84.62847836],\n",
                            "       [32.82656198, 84.66683287],\n",
                            "       [32.76254264, 84.70506665],\n",
                            "       [32.69864895, 84.74318044],\n",
                            "       [32.63488019, 84.78117496],\n",
                            "       [32.57123561, 84.81905095],\n",
                            "       [32.50771452, 84.85680911],\n",
                            "       [32.4443162 , 84.89445015],\n",
                            "       [32.38103995, 84.93197478],\n",
                            "       [32.31788507, 84.96938369],\n",
                            "       [32.25485087, 85.00667756],\n",
                            "       [32.19193668, 85.04385708],\n",
                            "       [32.12914181, 85.08092292],\n",
                            "       [32.06646561, 85.11787574],\n",
                            "       [32.00390741, 85.15471621],\n",
                            "       [31.94146654, 85.19144498],\n",
                            "       [31.87914238, 85.2280627 ],\n",
                            "       [31.81693427, 85.26457001],\n",
                            "       [31.75484157, 85.30096754],\n",
                            "       [31.69286366, 85.33725593],\n",
                            "       [31.63099991, 85.37343579],\n",
                            "       [31.5692497 , 85.40950774],\n",
                            "       [31.50761243, 85.4454724 ],\n",
                            "       [31.44608747, 85.48133037],\n",
                            "       [31.38467425, 85.51708225],\n",
                            "       [31.32337214, 85.55272864],\n",
                            "       [31.26218058, 85.58827011],\n",
                            "       [31.20109897, 85.62370726],\n",
                            "       [31.14012674, 85.65904067],\n",
                            "       [31.07926331, 85.6942709 ],\n",
                            "       [31.01850811, 85.72939852],\n",
                            "       [30.95786058, 85.7644241 ],\n",
                            "       [30.89732016, 85.79934819],\n",
                            "       [30.8368863 , 85.83417134],\n",
                            "       [30.77655845, 85.8688941 ],\n",
                            "       [30.71633607, 85.90351702],\n",
                            "       [30.65621862, 85.93804062],\n",
                            "       [30.59620556, 85.97246544],\n",
                            "       [30.53629638, 86.00679201],\n",
                            "       [30.47649053, 86.04102085],\n",
                            "       [30.41678751, 86.07515248],\n",
                            "       [30.35718681, 86.10918741],\n",
                            "       [30.2976879 , 86.14312615],\n",
                            "       [30.23829029, 86.17696921],\n",
                            "       [30.17899347, 86.21071708],\n",
                            "       [30.11979694, 86.24437026],\n",
                            "       [30.06070022, 86.27792925],\n",
                            "       [30.00170282, 86.31139452],\n",
                            "       [29.94280424, 86.34476657],\n",
                            "       [29.88400402, 86.37804587],\n",
                            "       [29.82530168, 86.41123289],\n",
                            "       [29.76669673, 86.44432811],\n",
                            "       [29.70818872, 86.47733199],\n",
                            "       [29.64977719, 86.510245  ],\n",
                            "       [29.59146166, 86.54306759],\n",
                            "       [29.53324169, 86.57580022],\n",
                            "       [29.47511682, 86.60844334],\n",
                            "       [29.41708661, 86.6409974 ],\n",
                            "       [29.35915061, 86.67346285],\n",
                            "       [29.30130837, 86.70584011],\n",
                            "       [29.24355947, 86.73812963],\n",
                            "       [29.18590346, 86.77033184],\n",
                            "       [29.12833992, 86.80244717],\n",
                            "       [29.07086842, 86.83447605],\n",
                            "       [29.01348854, 86.86641889],\n",
                            "       [28.95619985, 86.89827612],\n",
                            "       [28.89900194, 86.93004816],\n",
                            "       [28.8418944 , 86.9617354 ],\n",
                            "       [28.78487681, 86.99333827],\n",
                            "       [28.72794878, 87.02485717],\n",
                            "       [28.67110989, 87.05629249],\n",
                            "       [28.61435974, 87.08764465],\n",
                            "       [28.55769795, 87.11891403],\n",
                            "       [28.50112411, 87.15010103],\n",
                            "       [28.44463783, 87.18120603],\n",
                            "       [28.38823873, 87.21222943],\n",
                            "       [28.33192643, 87.2431716 ],\n",
                            "       [28.27570053, 87.27403294],\n",
                            "       [28.21956067, 87.30481381],\n",
                            "       [28.16350646, 87.33551458],\n",
                            "       [28.10753753, 87.36613564],\n",
                            "       [28.05165352, 87.39667735],\n",
                            "       [27.99585405, 87.42714008],\n",
                            "       [27.94013876, 87.45752419],\n",
                            "       [27.88450729, 87.48783003],\n",
                            "       [27.82895928, 87.51805798],\n",
                            "       [27.77349438, 87.54820837],\n",
                            "       [27.71811222, 87.57828157],\n",
                            "       [27.66281247, 87.60827793],\n",
                            "       [27.60759477, 87.63819779],\n",
                            "       [27.55245877, 87.66804149],\n",
                            "       [27.49740414, 87.69780938],\n",
                            "       [27.44243053, 87.7275018 ],\n",
                            "       [27.38753761, 87.75711908],\n",
                            "       [27.33272503, 87.78666156],\n",
                            "       [27.27799247, 87.81612957],\n",
                            "       [27.22333959, 87.84552344],\n",
                            "       [27.16876608, 87.87484349],\n",
                            "       [27.11427159, 87.90409006],\n",
                            "       [27.05985581, 87.93326346],\n",
                            "       [27.00551842, 87.96236401],\n",
                            "       [26.9512591 , 87.99139203],\n",
                            "       [26.89707753, 88.02034783],\n",
                            "       [26.8429734 , 88.04923174],\n",
                            "       [26.78894639, 88.07804405],\n",
                            "       [26.7349962 , 88.10678508],\n",
                            "       [26.68112252, 88.13545514],\n",
                            "       [26.62732504, 88.16405452],\n",
                            "       [26.57360346, 88.19258353],\n",
                            "       [26.51995749, 88.22104247],\n",
                            "       [26.46638681, 88.24943164],\n",
                            "       [26.41289113, 88.27775133],\n",
                            "       [26.35947017, 88.30600184],\n",
                            "       [26.30612362, 88.33418346],\n",
                            "       [26.2528512 , 88.36229647],\n",
                            "       [26.19965261, 88.39034117],\n",
                            "       [26.14652758, 88.41831783],\n",
                            "       [26.09347581, 88.44622675],\n",
                            "       [26.04049702, 88.47406821],\n",
                            "       [25.98759094, 88.50184247],\n",
                            "       [25.93475728, 88.52954983],\n",
                            "       [25.88199577, 88.55719056],\n",
                            "       [25.82930613, 88.58476493],\n",
                            "       [25.77668809, 88.61227321],\n",
                            "       [25.72414137, 88.63971568],\n",
                            "       [25.67166571, 88.6670926 ],\n",
                            "       [25.61926085, 88.69440424],\n",
                            "       [25.5669265 , 88.72165085],\n",
                            "       [25.51466242, 88.74883272],\n",
                            "       [25.46246833, 88.77595009],\n",
                            "       [25.41034398, 88.80300323],\n",
                            "       [25.35828911, 88.82999239],\n",
                            "       [25.30630346, 88.85691784],\n",
                            "       [25.25438678, 88.88377981],\n",
                            "       [25.2025388 , 88.91057858],\n",
                            "       [25.15075929, 88.93731438],\n",
                            "       [25.09904799, 88.96398747],\n",
                            "       [25.04740464, 88.9905981 ],\n",
                            "       [24.99582901, 89.0171465 ],\n",
                            "       [24.94432084, 89.04363293],\n",
                            "       [24.8928799 , 89.07005763],\n",
                            "       [24.84150594, 89.09642084],\n",
                            "       [24.79019872, 89.1227228 ],\n",
                            "       [24.738958  , 89.14896375]])"
                        ]
                    },
                    "execution_count": 37,
                    "metadata": {},
                    "output_type": "execute_result"
                }
            ],
            "source": [
                "y_pred_arma = armamodel.get_forecast(len(test_nvda))\n",
                "y_pred_df = y_pred_arma.conf_int(alpha = 0.05)\n",
                "y_pred_df"
            ]
        },
        {
            "cell_type": "markdown",
            "metadata": {},
            "source": [
                "## ARIMA seems to do a pretty decent job. Of course there are instances where it might not be as reliable, for example during the market crash during the Covid-19 pandemic. However, it looks like a reliable model that is relatively simple to build."
            ]
        },
        {
            "cell_type": "markdown",
            "metadata": {},
            "source": [
                "# Using XGBOOST"
            ]
        },
        {
            "cell_type": "code",
            "execution_count": 38,
            "metadata": {},
            "outputs": [],
            "source": [
                "xgboost_nvda = data['NVDA']"
            ]
        },
        {
            "cell_type": "code",
            "execution_count": 39,
            "metadata": {},
            "outputs": [
                {
                    "name": "stderr",
                    "output_type": "stream",
                    "text": [
                        "<ipython-input-39-e29f684a3415>:1: SettingWithCopyWarning: \n",
                        "A value is trying to be set on a copy of a slice from a DataFrame.\n",
                        "Try using .loc[row_indexer,col_indexer] = value instead\n",
                        "\n",
                        "See the caveats in the documentation: https://pandas.pydata.org/pandas-docs/stable/user_guide/indexing.html#returning-a-view-versus-a-copy\n",
                        "  xgboost_nvda['target'] = xgboost_nvda['Close'].copy()\n",
                        "<ipython-input-39-e29f684a3415>:2: SettingWithCopyWarning: \n",
                        "A value is trying to be set on a copy of a slice from a DataFrame.\n",
                        "Try using .loc[row_indexer,col_indexer] = value instead\n",
                        "\n",
                        "See the caveats in the documentation: https://pandas.pydata.org/pandas-docs/stable/user_guide/indexing.html#returning-a-view-versus-a-copy\n",
                        "  xgboost_nvda['target'] = xgboost_nvda['Close'].shift(-1)\n",
                        "<ipython-input-39-e29f684a3415>:3: SettingWithCopyWarning: \n",
                        "A value is trying to be set on a copy of a slice from a DataFrame\n",
                        "\n",
                        "See the caveats in the documentation: https://pandas.pydata.org/pandas-docs/stable/user_guide/indexing.html#returning-a-view-versus-a-copy\n",
                        "  xgboost_nvda.dropna(inplace=True)\n"
                    ]
                },
                {
                    "data": {
                        "text/html": [
                            "<div>\n",
                            "<style scoped>\n",
                            "    .dataframe tbody tr th:only-of-type {\n",
                            "        vertical-align: middle;\n",
                            "    }\n",
                            "\n",
                            "    .dataframe tbody tr th {\n",
                            "        vertical-align: top;\n",
                            "    }\n",
                            "\n",
                            "    .dataframe thead th {\n",
                            "        text-align: right;\n",
                            "    }\n",
                            "</style>\n",
                            "<table border=\"1\" class=\"dataframe\">\n",
                            "  <thead>\n",
                            "    <tr style=\"text-align: right;\">\n",
                            "      <th></th>\n",
                            "      <th>Open</th>\n",
                            "      <th>High</th>\n",
                            "      <th>Low</th>\n",
                            "      <th>Close</th>\n",
                            "      <th>Adj Close</th>\n",
                            "      <th>Volume</th>\n",
                            "      <th>target</th>\n",
                            "    </tr>\n",
                            "    <tr>\n",
                            "      <th>Date</th>\n",
                            "      <th></th>\n",
                            "      <th></th>\n",
                            "      <th></th>\n",
                            "      <th></th>\n",
                            "      <th></th>\n",
                            "      <th></th>\n",
                            "      <th></th>\n",
                            "    </tr>\n",
                            "  </thead>\n",
                            "  <tbody>\n",
                            "    <tr>\n",
                            "      <th>2014-01-02</th>\n",
                            "      <td>3.980000</td>\n",
                            "      <td>3.995000</td>\n",
                            "      <td>3.930000</td>\n",
                            "      <td>3.965000</td>\n",
                            "      <td>3.745882</td>\n",
                            "      <td>26009200</td>\n",
                            "      <td>3.917500</td>\n",
                            "    </tr>\n",
                            "    <tr>\n",
                            "      <th>2014-01-03</th>\n",
                            "      <td>3.972500</td>\n",
                            "      <td>3.980000</td>\n",
                            "      <td>3.905000</td>\n",
                            "      <td>3.917500</td>\n",
                            "      <td>3.701007</td>\n",
                            "      <td>25933200</td>\n",
                            "      <td>3.970000</td>\n",
                            "    </tr>\n",
                            "    <tr>\n",
                            "      <th>2014-01-06</th>\n",
                            "      <td>3.957500</td>\n",
                            "      <td>4.000000</td>\n",
                            "      <td>3.920000</td>\n",
                            "      <td>3.970000</td>\n",
                            "      <td>3.750607</td>\n",
                            "      <td>40949200</td>\n",
                            "      <td>4.035000</td>\n",
                            "    </tr>\n",
                            "    <tr>\n",
                            "      <th>2014-01-07</th>\n",
                            "      <td>4.010000</td>\n",
                            "      <td>4.050000</td>\n",
                            "      <td>3.982500</td>\n",
                            "      <td>4.035000</td>\n",
                            "      <td>3.812014</td>\n",
                            "      <td>33328800</td>\n",
                            "      <td>4.090000</td>\n",
                            "    </tr>\n",
                            "    <tr>\n",
                            "      <th>2014-01-08</th>\n",
                            "      <td>4.050000</td>\n",
                            "      <td>4.110000</td>\n",
                            "      <td>4.035000</td>\n",
                            "      <td>4.090000</td>\n",
                            "      <td>3.863974</td>\n",
                            "      <td>30819200</td>\n",
                            "      <td>3.937500</td>\n",
                            "    </tr>\n",
                            "    <tr>\n",
                            "      <th>...</th>\n",
                            "      <td>...</td>\n",
                            "      <td>...</td>\n",
                            "      <td>...</td>\n",
                            "      <td>...</td>\n",
                            "      <td>...</td>\n",
                            "      <td>...</td>\n",
                            "      <td>...</td>\n",
                            "    </tr>\n",
                            "    <tr>\n",
                            "      <th>2021-07-27</th>\n",
                            "      <td>192.649994</td>\n",
                            "      <td>196.220001</td>\n",
                            "      <td>187.410004</td>\n",
                            "      <td>192.080002</td>\n",
                            "      <td>192.022629</td>\n",
                            "      <td>24886300</td>\n",
                            "      <td>195.029999</td>\n",
                            "    </tr>\n",
                            "    <tr>\n",
                            "      <th>2021-07-28</th>\n",
                            "      <td>193.190002</td>\n",
                            "      <td>196.460007</td>\n",
                            "      <td>189.949997</td>\n",
                            "      <td>195.029999</td>\n",
                            "      <td>194.971725</td>\n",
                            "      <td>20219100</td>\n",
                            "      <td>196.619995</td>\n",
                            "    </tr>\n",
                            "    <tr>\n",
                            "      <th>2021-07-29</th>\n",
                            "      <td>195.190002</td>\n",
                            "      <td>198.529999</td>\n",
                            "      <td>193.279999</td>\n",
                            "      <td>196.619995</td>\n",
                            "      <td>196.561264</td>\n",
                            "      <td>19078100</td>\n",
                            "      <td>194.990005</td>\n",
                            "    </tr>\n",
                            "    <tr>\n",
                            "      <th>2021-07-30</th>\n",
                            "      <td>194.179993</td>\n",
                            "      <td>196.300003</td>\n",
                            "      <td>192.630005</td>\n",
                            "      <td>194.990005</td>\n",
                            "      <td>194.931763</td>\n",
                            "      <td>18322900</td>\n",
                            "      <td>197.500000</td>\n",
                            "    </tr>\n",
                            "    <tr>\n",
                            "      <th>2021-08-02</th>\n",
                            "      <td>197.000000</td>\n",
                            "      <td>199.610001</td>\n",
                            "      <td>193.610001</td>\n",
                            "      <td>197.500000</td>\n",
                            "      <td>197.441010</td>\n",
                            "      <td>21744400</td>\n",
                            "      <td>198.149994</td>\n",
                            "    </tr>\n",
                            "  </tbody>\n",
                            "</table>\n",
                            "<p>1909 rows × 7 columns</p>\n",
                            "</div>"
                        ],
                        "text/plain": [
                            "                  Open        High         Low       Close   Adj Close  \\\n",
                            "Date                                                                     \n",
                            "2014-01-02    3.980000    3.995000    3.930000    3.965000    3.745882   \n",
                            "2014-01-03    3.972500    3.980000    3.905000    3.917500    3.701007   \n",
                            "2014-01-06    3.957500    4.000000    3.920000    3.970000    3.750607   \n",
                            "2014-01-07    4.010000    4.050000    3.982500    4.035000    3.812014   \n",
                            "2014-01-08    4.050000    4.110000    4.035000    4.090000    3.863974   \n",
                            "...                ...         ...         ...         ...         ...   \n",
                            "2021-07-27  192.649994  196.220001  187.410004  192.080002  192.022629   \n",
                            "2021-07-28  193.190002  196.460007  189.949997  195.029999  194.971725   \n",
                            "2021-07-29  195.190002  198.529999  193.279999  196.619995  196.561264   \n",
                            "2021-07-30  194.179993  196.300003  192.630005  194.990005  194.931763   \n",
                            "2021-08-02  197.000000  199.610001  193.610001  197.500000  197.441010   \n",
                            "\n",
                            "              Volume      target  \n",
                            "Date                              \n",
                            "2014-01-02  26009200    3.917500  \n",
                            "2014-01-03  25933200    3.970000  \n",
                            "2014-01-06  40949200    4.035000  \n",
                            "2014-01-07  33328800    4.090000  \n",
                            "2014-01-08  30819200    3.937500  \n",
                            "...              ...         ...  \n",
                            "2021-07-27  24886300  195.029999  \n",
                            "2021-07-28  20219100  196.619995  \n",
                            "2021-07-29  19078100  194.990005  \n",
                            "2021-07-30  18322900  197.500000  \n",
                            "2021-08-02  21744400  198.149994  \n",
                            "\n",
                            "[1909 rows x 7 columns]"
                        ]
                    },
                    "execution_count": 39,
                    "metadata": {},
                    "output_type": "execute_result"
                }
            ],
            "source": [
                "xgboost_nvda['target'] = xgboost_nvda['Close'].copy()\n",
                "xgboost_nvda['target'] = xgboost_nvda['Close'].shift(-1)\n",
                "xgboost_nvda.dropna(inplace=True)\n",
                "xgboost_nvda"
            ]
        },
        {
            "cell_type": "code",
            "execution_count": 40,
            "metadata": {},
            "outputs": [
                {
                    "data": {
                        "text/plain": [
                            "True"
                        ]
                    },
                    "execution_count": 40,
                    "metadata": {},
                    "output_type": "execute_result"
                }
            ],
            "source": [
                "xgboost_nvda['target'][0] == xgboost_nvda['Close'][1]\n",
                "#the target is the next date's closing price"
            ]
        },
        {
            "cell_type": "code",
            "execution_count": 41,
            "metadata": {},
            "outputs": [
                {
                    "name": "stdout",
                    "output_type": "stream",
                    "text": [
                        "train length:  1527\n",
                        "test length:  382\n"
                    ]
                }
            ],
            "source": [
                "xgboost_nvda_train, xgboost_nvda_test = xgboost_nvda[0:int(len(xgboost_nvda) * 0.8)], xgboost_nvda[int(len(xgboost_nvda) * 0.8):]\n",
                "print('train length: ', len(xgboost_nvda_train))\n",
                "print('test length: ', len(xgboost_nvda_test))"
            ]
        },
        {
            "cell_type": "code",
            "execution_count": 42,
            "metadata": {},
            "outputs": [],
            "source": [
                "train_X= xgboost_nvda_train.iloc[:, :-1]\n",
                "train_Y= xgboost_nvda_train.iloc[:, -1]\n",
                "test_X = xgboost_nvda_test.iloc[:, :-1]\n",
                "test_Y = xgboost_nvda_test.iloc[:, -1]"
            ]
        },
        {
            "cell_type": "code",
            "execution_count": 43,
            "metadata": {},
            "outputs": [
                {
                    "data": {
                        "text/html": [
                            "<div>\n",
                            "<style scoped>\n",
                            "    .dataframe tbody tr th:only-of-type {\n",
                            "        vertical-align: middle;\n",
                            "    }\n",
                            "\n",
                            "    .dataframe tbody tr th {\n",
                            "        vertical-align: top;\n",
                            "    }\n",
                            "\n",
                            "    .dataframe thead th {\n",
                            "        text-align: right;\n",
                            "    }\n",
                            "</style>\n",
                            "<table border=\"1\" class=\"dataframe\">\n",
                            "  <thead>\n",
                            "    <tr style=\"text-align: right;\">\n",
                            "      <th></th>\n",
                            "      <th>Open</th>\n",
                            "      <th>High</th>\n",
                            "      <th>Low</th>\n",
                            "      <th>Close</th>\n",
                            "      <th>Adj Close</th>\n",
                            "      <th>Volume</th>\n",
                            "    </tr>\n",
                            "    <tr>\n",
                            "      <th>Date</th>\n",
                            "      <th></th>\n",
                            "      <th></th>\n",
                            "      <th></th>\n",
                            "      <th></th>\n",
                            "      <th></th>\n",
                            "      <th></th>\n",
                            "    </tr>\n",
                            "  </thead>\n",
                            "  <tbody>\n",
                            "    <tr>\n",
                            "      <th>2014-01-02</th>\n",
                            "      <td>3.980000</td>\n",
                            "      <td>3.995000</td>\n",
                            "      <td>3.930000</td>\n",
                            "      <td>3.965000</td>\n",
                            "      <td>3.745882</td>\n",
                            "      <td>26009200</td>\n",
                            "    </tr>\n",
                            "    <tr>\n",
                            "      <th>2014-01-03</th>\n",
                            "      <td>3.972500</td>\n",
                            "      <td>3.980000</td>\n",
                            "      <td>3.905000</td>\n",
                            "      <td>3.917500</td>\n",
                            "      <td>3.701007</td>\n",
                            "      <td>25933200</td>\n",
                            "    </tr>\n",
                            "    <tr>\n",
                            "      <th>2014-01-06</th>\n",
                            "      <td>3.957500</td>\n",
                            "      <td>4.000000</td>\n",
                            "      <td>3.920000</td>\n",
                            "      <td>3.970000</td>\n",
                            "      <td>3.750607</td>\n",
                            "      <td>40949200</td>\n",
                            "    </tr>\n",
                            "    <tr>\n",
                            "      <th>2014-01-07</th>\n",
                            "      <td>4.010000</td>\n",
                            "      <td>4.050000</td>\n",
                            "      <td>3.982500</td>\n",
                            "      <td>4.035000</td>\n",
                            "      <td>3.812014</td>\n",
                            "      <td>33328800</td>\n",
                            "    </tr>\n",
                            "    <tr>\n",
                            "      <th>2014-01-08</th>\n",
                            "      <td>4.050000</td>\n",
                            "      <td>4.110000</td>\n",
                            "      <td>4.035000</td>\n",
                            "      <td>4.090000</td>\n",
                            "      <td>3.863974</td>\n",
                            "      <td>30819200</td>\n",
                            "    </tr>\n",
                            "    <tr>\n",
                            "      <th>...</th>\n",
                            "      <td>...</td>\n",
                            "      <td>...</td>\n",
                            "      <td>...</td>\n",
                            "      <td>...</td>\n",
                            "      <td>...</td>\n",
                            "      <td>...</td>\n",
                            "    </tr>\n",
                            "    <tr>\n",
                            "      <th>2020-01-21</th>\n",
                            "      <td>61.952499</td>\n",
                            "      <td>62.322498</td>\n",
                            "      <td>61.642502</td>\n",
                            "      <td>61.985001</td>\n",
                            "      <td>61.828888</td>\n",
                            "      <td>21791600</td>\n",
                            "    </tr>\n",
                            "    <tr>\n",
                            "      <th>2020-01-22</th>\n",
                            "      <td>62.439999</td>\n",
                            "      <td>63.397499</td>\n",
                            "      <td>62.250000</td>\n",
                            "      <td>62.527500</td>\n",
                            "      <td>62.370022</td>\n",
                            "      <td>23924000</td>\n",
                            "    </tr>\n",
                            "    <tr>\n",
                            "      <th>2020-01-23</th>\n",
                            "      <td>62.930000</td>\n",
                            "      <td>63.299999</td>\n",
                            "      <td>62.037498</td>\n",
                            "      <td>63.215000</td>\n",
                            "      <td>63.055790</td>\n",
                            "      <td>24451600</td>\n",
                            "    </tr>\n",
                            "    <tr>\n",
                            "      <th>2020-01-24</th>\n",
                            "      <td>64.375000</td>\n",
                            "      <td>64.875000</td>\n",
                            "      <td>62.075001</td>\n",
                            "      <td>62.619999</td>\n",
                            "      <td>62.462284</td>\n",
                            "      <td>37351200</td>\n",
                            "    </tr>\n",
                            "    <tr>\n",
                            "      <th>2020-01-27</th>\n",
                            "      <td>59.560001</td>\n",
                            "      <td>60.562500</td>\n",
                            "      <td>58.057499</td>\n",
                            "      <td>60.049999</td>\n",
                            "      <td>59.898762</td>\n",
                            "      <td>47053600</td>\n",
                            "    </tr>\n",
                            "  </tbody>\n",
                            "</table>\n",
                            "<p>1527 rows × 6 columns</p>\n",
                            "</div>"
                        ],
                        "text/plain": [
                            "                 Open       High        Low      Close  Adj Close    Volume\n",
                            "Date                                                                       \n",
                            "2014-01-02   3.980000   3.995000   3.930000   3.965000   3.745882  26009200\n",
                            "2014-01-03   3.972500   3.980000   3.905000   3.917500   3.701007  25933200\n",
                            "2014-01-06   3.957500   4.000000   3.920000   3.970000   3.750607  40949200\n",
                            "2014-01-07   4.010000   4.050000   3.982500   4.035000   3.812014  33328800\n",
                            "2014-01-08   4.050000   4.110000   4.035000   4.090000   3.863974  30819200\n",
                            "...               ...        ...        ...        ...        ...       ...\n",
                            "2020-01-21  61.952499  62.322498  61.642502  61.985001  61.828888  21791600\n",
                            "2020-01-22  62.439999  63.397499  62.250000  62.527500  62.370022  23924000\n",
                            "2020-01-23  62.930000  63.299999  62.037498  63.215000  63.055790  24451600\n",
                            "2020-01-24  64.375000  64.875000  62.075001  62.619999  62.462284  37351200\n",
                            "2020-01-27  59.560001  60.562500  58.057499  60.049999  59.898762  47053600\n",
                            "\n",
                            "[1527 rows x 6 columns]"
                        ]
                    },
                    "execution_count": 43,
                    "metadata": {},
                    "output_type": "execute_result"
                }
            ],
            "source": [
                "train_X"
            ]
        },
        {
            "cell_type": "code",
            "execution_count": 44,
            "metadata": {},
            "outputs": [
                {
                    "data": {
                        "text/plain": [
                            "XGBRegressor(base_score=0.5, booster='gbtree', colsample_bylevel=1,\n",
                            "             colsample_bynode=1, colsample_bytree=1, gamma=0, gpu_id=-1,\n",
                            "             importance_type='gain', interaction_constraints='',\n",
                            "             learning_rate=0.300000012, max_delta_step=0, max_depth=6,\n",
                            "             min_child_weight=1, missing=nan, monotone_constraints='()',\n",
                            "             n_estimators=1000, n_jobs=12, num_parallel_tree=1, random_state=0,\n",
                            "             reg_alpha=0, reg_lambda=1, scale_pos_weight=1, subsample=1,\n",
                            "             tree_method='exact', validate_parameters=1, verbosity=None)"
                        ]
                    },
                    "execution_count": 44,
                    "metadata": {},
                    "output_type": "execute_result"
                }
            ],
            "source": [
                "modelXGB = XGBRegressor(objective='reg:squarederror', n_estimators=1000)\n",
                "modelXGB.fit(train_X, train_Y)"
            ]
        },
        {
            "cell_type": "code",
            "execution_count": 45,
            "metadata": {},
            "outputs": [
                {
                    "data": {
                        "image/png": "[encoded data removed]",
                        "text/plain": [
                            "<Figure size 432x288 with 1 Axes>"
                        ]
                    },
                    "metadata": {
                        "needs_background": "light"
                    },
                    "output_type": "display_data"
                }
            ],
            "source": [
                "importance = plot_importance(modelXGB)"
            ]
        },
        {
            "cell_type": "markdown",
            "metadata": {},
            "source": [
                "# Using Keras"
            ]
        },
        {
            "cell_type": "code",
            "execution_count": 46,
            "metadata": {},
            "outputs": [
                {
                    "name": "stdout",
                    "output_type": "stream",
                    "text": [
                        "nvda train: 1337\n",
                        "nvda test: 573\n"
                    ]
                }
            ],
            "source": [
                "nvda_train = nvda[:int(len(nvda) * 0.7)]\n",
                "nvda_test = nvda[int(len(nvda) * 0.7):]\n",
                "print('nvda train:' , len(nvda_train))\n",
                "print('nvda test:' , len(nvda_test))"
            ]
        },
        {
            "cell_type": "code",
            "execution_count": 47,
            "metadata": {},
            "outputs": [
                {
                    "data": {
                        "text/html": [
                            "<div>\n",
                            "<style scoped>\n",
                            "    .dataframe tbody tr th:only-of-type {\n",
                            "        vertical-align: middle;\n",
                            "    }\n",
                            "\n",
                            "    .dataframe tbody tr th {\n",
                            "        vertical-align: top;\n",
                            "    }\n",
                            "\n",
                            "    .dataframe thead th {\n",
                            "        text-align: right;\n",
                            "    }\n",
                            "</style>\n",
                            "<table border=\"1\" class=\"dataframe\">\n",
                            "  <thead>\n",
                            "    <tr style=\"text-align: right;\">\n",
                            "      <th></th>\n",
                            "      <th>Close</th>\n",
                            "    </tr>\n",
                            "    <tr>\n",
                            "      <th>Date</th>\n",
                            "      <th></th>\n",
                            "    </tr>\n",
                            "  </thead>\n",
                            "  <tbody>\n",
                            "    <tr>\n",
                            "      <th>2014-01-02</th>\n",
                            "      <td>3.965000</td>\n",
                            "    </tr>\n",
                            "    <tr>\n",
                            "      <th>2014-01-03</th>\n",
                            "      <td>3.917500</td>\n",
                            "    </tr>\n",
                            "    <tr>\n",
                            "      <th>2014-01-06</th>\n",
                            "      <td>3.970000</td>\n",
                            "    </tr>\n",
                            "    <tr>\n",
                            "      <th>2014-01-07</th>\n",
                            "      <td>4.035000</td>\n",
                            "    </tr>\n",
                            "    <tr>\n",
                            "      <th>2014-01-08</th>\n",
                            "      <td>4.090000</td>\n",
                            "    </tr>\n",
                            "    <tr>\n",
                            "      <th>...</th>\n",
                            "      <td>...</td>\n",
                            "    </tr>\n",
                            "    <tr>\n",
                            "      <th>2019-04-18</th>\n",
                            "      <td>46.575001</td>\n",
                            "    </tr>\n",
                            "    <tr>\n",
                            "      <th>2019-04-22</th>\n",
                            "      <td>47.117500</td>\n",
                            "    </tr>\n",
                            "    <tr>\n",
                            "      <th>2019-04-23</th>\n",
                            "      <td>47.667500</td>\n",
                            "    </tr>\n",
                            "    <tr>\n",
                            "      <th>2019-04-24</th>\n",
                            "      <td>47.792500</td>\n",
                            "    </tr>\n",
                            "    <tr>\n",
                            "      <th>2019-04-25</th>\n",
                            "      <td>46.727501</td>\n",
                            "    </tr>\n",
                            "  </tbody>\n",
                            "</table>\n",
                            "<p>1337 rows × 1 columns</p>\n",
                            "</div>"
                        ],
                        "text/plain": [
                            "                Close\n",
                            "Date                 \n",
                            "2014-01-02   3.965000\n",
                            "2014-01-03   3.917500\n",
                            "2014-01-06   3.970000\n",
                            "2014-01-07   4.035000\n",
                            "2014-01-08   4.090000\n",
                            "...               ...\n",
                            "2019-04-18  46.575001\n",
                            "2019-04-22  47.117500\n",
                            "2019-04-23  47.667500\n",
                            "2019-04-24  47.792500\n",
                            "2019-04-25  46.727501\n",
                            "\n",
                            "[1337 rows x 1 columns]"
                        ]
                    },
                    "metadata": {},
                    "output_type": "display_data"
                },
                {
                    "data": {
                        "text/html": [
                            "<div>\n",
                            "<style scoped>\n",
                            "    .dataframe tbody tr th:only-of-type {\n",
                            "        vertical-align: middle;\n",
                            "    }\n",
                            "\n",
                            "    .dataframe tbody tr th {\n",
                            "        vertical-align: top;\n",
                            "    }\n",
                            "\n",
                            "    .dataframe thead th {\n",
                            "        text-align: right;\n",
                            "    }\n",
                            "</style>\n",
                            "<table border=\"1\" class=\"dataframe\">\n",
                            "  <thead>\n",
                            "    <tr style=\"text-align: right;\">\n",
                            "      <th></th>\n",
                            "      <th>Close</th>\n",
                            "    </tr>\n",
                            "    <tr>\n",
                            "      <th>Date</th>\n",
                            "      <th></th>\n",
                            "    </tr>\n",
                            "  </thead>\n",
                            "  <tbody>\n",
                            "    <tr>\n",
                            "      <th>2019-04-26</th>\n",
                            "      <td>44.522499</td>\n",
                            "    </tr>\n",
                            "    <tr>\n",
                            "      <th>2019-04-29</th>\n",
                            "      <td>44.832500</td>\n",
                            "    </tr>\n",
                            "    <tr>\n",
                            "      <th>2019-04-30</th>\n",
                            "      <td>45.250000</td>\n",
                            "    </tr>\n",
                            "    <tr>\n",
                            "      <th>2019-05-01</th>\n",
                            "      <td>45.117500</td>\n",
                            "    </tr>\n",
                            "    <tr>\n",
                            "      <th>2019-05-02</th>\n",
                            "      <td>45.797501</td>\n",
                            "    </tr>\n",
                            "    <tr>\n",
                            "      <th>...</th>\n",
                            "      <td>...</td>\n",
                            "    </tr>\n",
                            "    <tr>\n",
                            "      <th>2021-07-28</th>\n",
                            "      <td>195.029999</td>\n",
                            "    </tr>\n",
                            "    <tr>\n",
                            "      <th>2021-07-29</th>\n",
                            "      <td>196.619995</td>\n",
                            "    </tr>\n",
                            "    <tr>\n",
                            "      <th>2021-07-30</th>\n",
                            "      <td>194.990005</td>\n",
                            "    </tr>\n",
                            "    <tr>\n",
                            "      <th>2021-08-02</th>\n",
                            "      <td>197.500000</td>\n",
                            "    </tr>\n",
                            "    <tr>\n",
                            "      <th>2021-08-03</th>\n",
                            "      <td>198.149994</td>\n",
                            "    </tr>\n",
                            "  </tbody>\n",
                            "</table>\n",
                            "<p>573 rows × 1 columns</p>\n",
                            "</div>"
                        ],
                        "text/plain": [
                            "                 Close\n",
                            "Date                  \n",
                            "2019-04-26   44.522499\n",
                            "2019-04-29   44.832500\n",
                            "2019-04-30   45.250000\n",
                            "2019-05-01   45.117500\n",
                            "2019-05-02   45.797501\n",
                            "...                ...\n",
                            "2021-07-28  195.029999\n",
                            "2021-07-29  196.619995\n",
                            "2021-07-30  194.990005\n",
                            "2021-08-02  197.500000\n",
                            "2021-08-03  198.149994\n",
                            "\n",
                            "[573 rows x 1 columns]"
                        ]
                    },
                    "metadata": {},
                    "output_type": "display_data"
                }
            ],
            "source": [
                "display(nvda_train, nvda_test)"
            ]
        },
        {
            "cell_type": "code",
            "execution_count": 78,
            "metadata": {},
            "outputs": [
                {
                    "data": {
                        "text/plain": [
                            "MinMaxScaler()"
                        ]
                    },
                    "execution_count": 78,
                    "metadata": {},
                    "output_type": "execute_result"
                }
            ],
            "source": [
                "scaler = MinMaxScaler()\n",
                "scaler.fit(nvda_train)"
            ]
        },
        {
            "cell_type": "code",
            "execution_count": 79,
            "metadata": {},
            "outputs": [],
            "source": [
                "scaled_train = scaler.transform(nvda_train)\n",
                "scaled_test = scaler.transform(nvda_test)"
            ]
        },
        {
            "cell_type": "code",
            "execution_count": 80,
            "metadata": {},
            "outputs": [],
            "source": [
                "n_input = 300 #window size of 300\n",
                "n_feature = 1 #univariate\n",
                "\n",
                "\n",
                "#creating the generator for training and testing\n",
                "train_generator = TimeseriesGenerator(scaled_train, scaled_train, length=n_input, batch_size=1)\n",
                "test_generator = TimeseriesGenerator(scaled_test, scaled_test, length=n_input, batch_size=1)"
            ]
        },
        {
            "cell_type": "code",
            "execution_count": 81,
            "metadata": {},
            "outputs": [],
            "source": [
                "#MODEL\n",
                "\n",
                "model = Sequential()\n",
                "\n",
                "model.add(Conv1D(filters=512, kernel_size=3, activation='relu', padding='same', input_shape=(n_input, n_feature))) #(200, 1)\n",
                "model.add(MaxPooling1D(pool_size=2))\n",
                "\n",
                "model.add(Conv1D(filters=256, kernel_size=3, activation='relu', padding='same'))\n",
                "model.add(MaxPooling1D(pool_size=2))\n",
                "\n",
                "model.add(Conv1D(filters=128, kernel_size=3, activation='relu', padding='same'))\n",
                "model.add(MaxPooling1D(pool_size=2))\n",
                "\n",
                "model.add(Conv1D(filters=64, kernel_size=3, activation='relu', padding='same'))\n",
                "\n",
                "model.add(Flatten())\n",
                "model.add(Dense(units=32, activation='relu'))\n",
                "model.add(Dense(units=n_feature)) #1\n",
                "model.compile(optimizer='adam', loss='mse')\n",
                "\n",
                "#stochastic gradient descent sgd, mse is best for outlier detection"
            ]
        },
        {
            "cell_type": "code",
            "execution_count": 82,
            "metadata": {},
            "outputs": [
                {
                    "name": "stdout",
                    "output_type": "stream",
                    "text": [
                        "Model: \"sequential_8\"\n",
                        "_________________________________________________________________\n",
                        "Layer (type)                 Output Shape              Param #   \n",
                        "=================================================================\n",
                        "conv1d_4 (Conv1D)            (None, 300, 512)          2048      \n",
                        "_________________________________________________________________\n",
                        "max_pooling1d_3 (MaxPooling1 (None, 150, 512)          0         \n",
                        "_________________________________________________________________\n",
                        "conv1d_5 (Conv1D)            (None, 150, 256)          393472    \n",
                        "_________________________________________________________________\n",
                        "max_pooling1d_4 (MaxPooling1 (None, 75, 256)           0         \n",
                        "_________________________________________________________________\n",
                        "conv1d_6 (Conv1D)            (None, 75, 128)           98432     \n",
                        "_________________________________________________________________\n",
                        "max_pooling1d_5 (MaxPooling1 (None, 37, 128)           0         \n",
                        "_________________________________________________________________\n",
                        "conv1d_7 (Conv1D)            (None, 37, 64)            24640     \n",
                        "_________________________________________________________________\n",
                        "flatten_1 (Flatten)          (None, 2368)              0         \n",
                        "_________________________________________________________________\n",
                        "dense_6 (Dense)              (None, 32)                75808     \n",
                        "_________________________________________________________________\n",
                        "dense_7 (Dense)              (None, 1)                 33        \n",
                        "=================================================================\n",
                        "Total params: 594,433\n",
                        "Trainable params: 594,433\n",
                        "Non-trainable params: 0\n",
                        "_________________________________________________________________\n"
                    ]
                }
            ],
            "source": [
                "model.summary()"
            ]
        },
        {
            "cell_type": "code",
            "execution_count": 83,
            "metadata": {},
            "outputs": [
                {
                    "name": "stdout",
                    "output_type": "stream",
                    "text": [
                        "Epoch 1/5\n",
                        "1037/1037 - 7s - loss: 0.0176\n",
                        "Epoch 2/5\n",
                        "1037/1037 - 6s - loss: 0.0015\n",
                        "Epoch 3/5\n",
                        "1037/1037 - 6s - loss: 0.0013\n",
                        "Epoch 4/5\n",
                        "1037/1037 - 6s - loss: 9.3058e-04\n",
                        "Epoch 5/5\n",
                        "1037/1037 - 6s - loss: 0.0012\n"
                    ]
                },
                {
                    "data": {
                        "text/plain": [
                            "<keras.callbacks.History at 0x1af243c3550>"
                        ]
                    },
                    "execution_count": 83,
                    "metadata": {},
                    "output_type": "execute_result"
                }
            ],
            "source": [
                "model.fit(train_generator, epochs=5, batch_size=50, verbose=2)"
            ]
        },
        {
            "cell_type": "code",
            "execution_count": 84,
            "metadata": {},
            "outputs": [
                {
                    "data": {
                        "text/plain": [
                            "[<matplotlib.lines.Line2D at 0x1af24111b20>]"
                        ]
                    },
                    "execution_count": 84,
                    "metadata": {},
                    "output_type": "execute_result"
                },
                {
                    "data": {
                        "image/png": "[encoded data removed]",
                        "text/plain": [
                            "<Figure size 432x288 with 1 Axes>"
                        ]
                    },
                    "metadata": {
                        "needs_background": "light"
                    },
                    "output_type": "display_data"
                }
            ],
            "source": [
                "model_loss= model.history.history['loss']\n",
                "plt.plot(range(len(model_loss)), model_loss)"
            ]
        },
        {
            "cell_type": "code",
            "execution_count": 85,
            "metadata": {},
            "outputs": [],
            "source": [
                "test_predictions = []\n",
                "train_predictions = []\n",
                "\n",
                "#how far into the future will I forecast?\n",
                "#loop through test window\n",
                "for x,_ in test_generator:\n",
                "    \n",
                "    # One timestep ahead of historical 300 points\n",
                "    current_pred = model.predict(x)\n",
                "    \n",
                "    #store that prediction\n",
                "    test_predictions.append(current_pred[0])\n",
                "\n",
                "\n",
                "for x,_ in train_generator:\n",
                "    \n",
                "    # One timestep ahead of historical 300 points\n",
                "    current_pred_train = model.predict(x)\n",
                "    \n",
                "    #store that prediction\n",
                "    train_predictions.append(current_pred_train[0])\n",
                "\n",
                "\n",
                "#reverse the scaled into normal total_mbps\n",
                "train_predictions = scaler.inverse_transform(train_predictions)\n",
                "true_predictions = scaler.inverse_transform(test_predictions)"
            ]
        },
        {
            "cell_type": "code",
            "execution_count": 86,
            "metadata": {},
            "outputs": [
                {
                    "name": "stderr",
                    "output_type": "stream",
                    "text": [
                        "<ipython-input-86-ce4dfb7dfde5>:2: SettingWithCopyWarning: \n",
                        "A value is trying to be set on a copy of a slice from a DataFrame.\n",
                        "Try using .loc[row_indexer,col_indexer] = value instead\n",
                        "\n",
                        "See the caveats in the documentation: https://pandas.pydata.org/pandas-docs/stable/user_guide/indexing.html#returning-a-view-versus-a-copy\n",
                        "  test_result['predictions'] = true_predictions\n"
                    ]
                },
                {
                    "data": {
                        "text/html": [
                            "<div>\n",
                            "<style scoped>\n",
                            "    .dataframe tbody tr th:only-of-type {\n",
                            "        vertical-align: middle;\n",
                            "    }\n",
                            "\n",
                            "    .dataframe tbody tr th {\n",
                            "        vertical-align: top;\n",
                            "    }\n",
                            "\n",
                            "    .dataframe thead th {\n",
                            "        text-align: right;\n",
                            "    }\n",
                            "</style>\n",
                            "<table border=\"1\" class=\"dataframe\">\n",
                            "  <thead>\n",
                            "    <tr style=\"text-align: right;\">\n",
                            "      <th></th>\n",
                            "      <th>Close</th>\n",
                            "      <th>predictions</th>\n",
                            "    </tr>\n",
                            "    <tr>\n",
                            "      <th>Date</th>\n",
                            "      <th></th>\n",
                            "      <th></th>\n",
                            "    </tr>\n",
                            "  </thead>\n",
                            "  <tbody>\n",
                            "    <tr>\n",
                            "      <th>2020-07-06</th>\n",
                            "      <td>98.392502</td>\n",
                            "      <td>97.436215</td>\n",
                            "    </tr>\n",
                            "    <tr>\n",
                            "      <th>2020-07-07</th>\n",
                            "      <td>98.717499</td>\n",
                            "      <td>99.011699</td>\n",
                            "    </tr>\n",
                            "    <tr>\n",
                            "      <th>2020-07-08</th>\n",
                            "      <td>102.160004</td>\n",
                            "      <td>100.006567</td>\n",
                            "    </tr>\n",
                            "    <tr>\n",
                            "      <th>2020-07-09</th>\n",
                            "      <td>105.089996</td>\n",
                            "      <td>102.296047</td>\n",
                            "    </tr>\n",
                            "    <tr>\n",
                            "      <th>2020-07-10</th>\n",
                            "      <td>104.792503</td>\n",
                            "      <td>105.648825</td>\n",
                            "    </tr>\n",
                            "    <tr>\n",
                            "      <th>...</th>\n",
                            "      <td>...</td>\n",
                            "      <td>...</td>\n",
                            "    </tr>\n",
                            "    <tr>\n",
                            "      <th>2021-07-28</th>\n",
                            "      <td>195.029999</td>\n",
                            "      <td>190.244574</td>\n",
                            "    </tr>\n",
                            "    <tr>\n",
                            "      <th>2021-07-29</th>\n",
                            "      <td>196.619995</td>\n",
                            "      <td>192.602753</td>\n",
                            "    </tr>\n",
                            "    <tr>\n",
                            "      <th>2021-07-30</th>\n",
                            "      <td>194.990005</td>\n",
                            "      <td>194.699887</td>\n",
                            "    </tr>\n",
                            "    <tr>\n",
                            "      <th>2021-08-02</th>\n",
                            "      <td>197.500000</td>\n",
                            "      <td>195.108783</td>\n",
                            "    </tr>\n",
                            "    <tr>\n",
                            "      <th>2021-08-03</th>\n",
                            "      <td>198.149994</td>\n",
                            "      <td>196.489871</td>\n",
                            "    </tr>\n",
                            "  </tbody>\n",
                            "</table>\n",
                            "<p>273 rows × 2 columns</p>\n",
                            "</div>"
                        ],
                        "text/plain": [
                            "                 Close  predictions\n",
                            "Date                               \n",
                            "2020-07-06   98.392502    97.436215\n",
                            "2020-07-07   98.717499    99.011699\n",
                            "2020-07-08  102.160004   100.006567\n",
                            "2020-07-09  105.089996   102.296047\n",
                            "2020-07-10  104.792503   105.648825\n",
                            "...                ...          ...\n",
                            "2021-07-28  195.029999   190.244574\n",
                            "2021-07-29  196.619995   192.602753\n",
                            "2021-07-30  194.990005   194.699887\n",
                            "2021-08-02  197.500000   195.108783\n",
                            "2021-08-03  198.149994   196.489871\n",
                            "\n",
                            "[273 rows x 2 columns]"
                        ]
                    },
                    "execution_count": 86,
                    "metadata": {},
                    "output_type": "execute_result"
                }
            ],
            "source": [
                "test_result = nvda_test[300:]\n",
                "test_result['predictions'] = true_predictions\n",
                "test_result"
            ]
        },
        {
            "cell_type": "code",
            "execution_count": 87,
            "metadata": {},
            "outputs": [],
            "source": [
                "import seaborn as sns "
            ]
        },
        {
            "cell_type": "code",
            "execution_count": 88,
            "metadata": {},
            "outputs": [
                {
                    "data": {
                        "text/plain": [
                            "<AxesSubplot:xlabel='Date', ylabel='Close'>"
                        ]
                    },
                    "execution_count": 88,
                    "metadata": {},
                    "output_type": "execute_result"
                },
                {
                    "data": {
                        "image/png": "[encoded data removed]",
                        "text/plain": [
                            "<Figure size 720x576 with 1 Axes>"
                        ]
                    },
                    "metadata": {
                        "needs_background": "light"
                    },
                    "output_type": "display_data"
                }
            ],
            "source": [
                "test_result[['Close', 'predictions']].plot(figsize=(10,8))\n",
                "sns.scatterplot(x=test_result.index, y=test_result.Close)\n",
                "sns.scatterplot(x=test_result.index, y=test_result.predictions)"
            ]
        },
        {
            "cell_type": "code",
            "execution_count": 89,
            "metadata": {},
            "outputs": [
                {
                    "data": {
                        "text/plain": [
                            "<AxesSubplot:xlabel='Date'>"
                        ]
                    },
                    "execution_count": 89,
                    "metadata": {},
                    "output_type": "execute_result"
                },
                {
                    "data": {
                        "image/png": "[encoded data removed]",
                        "text/plain": [
                            "<Figure size 864x576 with 1 Axes>"
                        ]
                    },
                    "metadata": {
                        "needs_background": "light"
                    },
                    "output_type": "display_data"
                }
            ],
            "source": [
                "test_result[['Close', 'predictions']][100:200].plot(figsize=(12,8))"
            ]
        },
        {
            "cell_type": "code",
            "execution_count": 90,
            "metadata": {},
            "outputs": [
                {
                    "name": "stderr",
                    "output_type": "stream",
                    "text": [
                        "<ipython-input-90-a8f80c9b14dd>:3: SettingWithCopyWarning: \n",
                        "A value is trying to be set on a copy of a slice from a DataFrame.\n",
                        "Try using .loc[row_indexer,col_indexer] = value instead\n",
                        "\n",
                        "See the caveats in the documentation: https://pandas.pydata.org/pandas-docs/stable/user_guide/indexing.html#returning-a-view-versus-a-copy\n",
                        "  train_result['predictions'] = train_predictions\n"
                    ]
                },
                {
                    "data": {
                        "text/html": [
                            "<div>\n",
                            "<style scoped>\n",
                            "    .dataframe tbody tr th:only-of-type {\n",
                            "        vertical-align: middle;\n",
                            "    }\n",
                            "\n",
                            "    .dataframe tbody tr th {\n",
                            "        vertical-align: top;\n",
                            "    }\n",
                            "\n",
                            "    .dataframe thead th {\n",
                            "        text-align: right;\n",
                            "    }\n",
                            "</style>\n",
                            "<table border=\"1\" class=\"dataframe\">\n",
                            "  <thead>\n",
                            "    <tr style=\"text-align: right;\">\n",
                            "      <th></th>\n",
                            "      <th>Close</th>\n",
                            "      <th>predictions</th>\n",
                            "    </tr>\n",
                            "    <tr>\n",
                            "      <th>Date</th>\n",
                            "      <th></th>\n",
                            "      <th></th>\n",
                            "    </tr>\n",
                            "  </thead>\n",
                            "  <tbody>\n",
                            "    <tr>\n",
                            "      <th>2015-03-13</th>\n",
                            "      <td>5.675000</td>\n",
                            "      <td>5.904864</td>\n",
                            "    </tr>\n",
                            "    <tr>\n",
                            "      <th>2015-03-16</th>\n",
                            "      <td>5.742500</td>\n",
                            "      <td>5.913760</td>\n",
                            "    </tr>\n",
                            "    <tr>\n",
                            "      <th>2015-03-17</th>\n",
                            "      <td>5.812500</td>\n",
                            "      <td>5.918194</td>\n",
                            "    </tr>\n",
                            "    <tr>\n",
                            "      <th>2015-03-18</th>\n",
                            "      <td>5.717500</td>\n",
                            "      <td>5.930184</td>\n",
                            "    </tr>\n",
                            "    <tr>\n",
                            "      <th>2015-03-19</th>\n",
                            "      <td>5.805000</td>\n",
                            "      <td>5.935762</td>\n",
                            "    </tr>\n",
                            "    <tr>\n",
                            "      <th>...</th>\n",
                            "      <td>...</td>\n",
                            "      <td>...</td>\n",
                            "    </tr>\n",
                            "    <tr>\n",
                            "      <th>2019-04-18</th>\n",
                            "      <td>46.575001</td>\n",
                            "      <td>48.047835</td>\n",
                            "    </tr>\n",
                            "    <tr>\n",
                            "      <th>2019-04-22</th>\n",
                            "      <td>47.117500</td>\n",
                            "      <td>47.980557</td>\n",
                            "    </tr>\n",
                            "    <tr>\n",
                            "      <th>2019-04-23</th>\n",
                            "      <td>47.667500</td>\n",
                            "      <td>48.183429</td>\n",
                            "    </tr>\n",
                            "    <tr>\n",
                            "      <th>2019-04-24</th>\n",
                            "      <td>47.792500</td>\n",
                            "      <td>48.783801</td>\n",
                            "    </tr>\n",
                            "    <tr>\n",
                            "      <th>2019-04-25</th>\n",
                            "      <td>46.727501</td>\n",
                            "      <td>49.113897</td>\n",
                            "    </tr>\n",
                            "  </tbody>\n",
                            "</table>\n",
                            "<p>1037 rows × 2 columns</p>\n",
                            "</div>"
                        ],
                        "text/plain": [
                            "                Close  predictions\n",
                            "Date                              \n",
                            "2015-03-13   5.675000     5.904864\n",
                            "2015-03-16   5.742500     5.913760\n",
                            "2015-03-17   5.812500     5.918194\n",
                            "2015-03-18   5.717500     5.930184\n",
                            "2015-03-19   5.805000     5.935762\n",
                            "...               ...          ...\n",
                            "2019-04-18  46.575001    48.047835\n",
                            "2019-04-22  47.117500    47.980557\n",
                            "2019-04-23  47.667500    48.183429\n",
                            "2019-04-24  47.792500    48.783801\n",
                            "2019-04-25  46.727501    49.113897\n",
                            "\n",
                            "[1037 rows x 2 columns]"
                        ]
                    },
                    "execution_count": 90,
                    "metadata": {},
                    "output_type": "execute_result"
                }
            ],
            "source": [
                "#train results\n",
                "train_result = nvda_train[300:]\n",
                "train_result['predictions'] = train_predictions\n",
                "train_result"
            ]
        },
        {
            "cell_type": "code",
            "execution_count": 91,
            "metadata": {},
            "outputs": [
                {
                    "data": {
                        "text/plain": [
                            "<AxesSubplot:xlabel='Date'>"
                        ]
                    },
                    "execution_count": 91,
                    "metadata": {},
                    "output_type": "execute_result"
                },
                {
                    "data": {
                        "image/png": "[encoded data removed]",
                        "text/plain": [
                            "<Figure size 864x576 with 1 Axes>"
                        ]
                    },
                    "metadata": {
                        "needs_background": "light"
                    },
                    "output_type": "display_data"
                }
            ],
            "source": [
                "train_result.plot(figsize=(12,8))"
            ]
        },
        {
            "cell_type": "code",
            "execution_count": 92,
            "metadata": {},
            "outputs": [
                {
                    "data": {
                        "text/plain": [
                            "<AxesSubplot:xlabel='Date'>"
                        ]
                    },
                    "execution_count": 92,
                    "metadata": {},
                    "output_type": "execute_result"
                },
                {
                    "data": {
                        "image/png": "[encoded data removed]",
                        "text/plain": [
                            "<Figure size 864x576 with 1 Axes>"
                        ]
                    },
                    "metadata": {
                        "needs_background": "light"
                    },
                    "output_type": "display_data"
                }
            ],
            "source": [
                "train_result[500:700].plot(figsize=(12,8))"
            ]
        },
        {
            "cell_type": "code",
            "execution_count": 93,
            "metadata": {},
            "outputs": [
                {
                    "data": {
                        "text/html": [
                            "<div>\n",
                            "<style scoped>\n",
                            "    .dataframe tbody tr th:only-of-type {\n",
                            "        vertical-align: middle;\n",
                            "    }\n",
                            "\n",
                            "    .dataframe tbody tr th {\n",
                            "        vertical-align: top;\n",
                            "    }\n",
                            "\n",
                            "    .dataframe thead th {\n",
                            "        text-align: right;\n",
                            "    }\n",
                            "</style>\n",
                            "<table border=\"1\" class=\"dataframe\">\n",
                            "  <thead>\n",
                            "    <tr style=\"text-align: right;\">\n",
                            "      <th></th>\n",
                            "      <th>Close</th>\n",
                            "      <th>predictions</th>\n",
                            "    </tr>\n",
                            "    <tr>\n",
                            "      <th>Date</th>\n",
                            "      <th></th>\n",
                            "      <th></th>\n",
                            "    </tr>\n",
                            "  </thead>\n",
                            "  <tbody>\n",
                            "    <tr>\n",
                            "      <th>2020-07-06</th>\n",
                            "      <td>98.392502</td>\n",
                            "      <td>97.436215</td>\n",
                            "    </tr>\n",
                            "    <tr>\n",
                            "      <th>2020-07-07</th>\n",
                            "      <td>98.717499</td>\n",
                            "      <td>99.011699</td>\n",
                            "    </tr>\n",
                            "    <tr>\n",
                            "      <th>2020-07-08</th>\n",
                            "      <td>102.160004</td>\n",
                            "      <td>100.006567</td>\n",
                            "    </tr>\n",
                            "    <tr>\n",
                            "      <th>2020-07-09</th>\n",
                            "      <td>105.089996</td>\n",
                            "      <td>102.296047</td>\n",
                            "    </tr>\n",
                            "    <tr>\n",
                            "      <th>2020-07-10</th>\n",
                            "      <td>104.792503</td>\n",
                            "      <td>105.648825</td>\n",
                            "    </tr>\n",
                            "    <tr>\n",
                            "      <th>...</th>\n",
                            "      <td>...</td>\n",
                            "      <td>...</td>\n",
                            "    </tr>\n",
                            "    <tr>\n",
                            "      <th>2021-07-28</th>\n",
                            "      <td>195.029999</td>\n",
                            "      <td>190.244574</td>\n",
                            "    </tr>\n",
                            "    <tr>\n",
                            "      <th>2021-07-29</th>\n",
                            "      <td>196.619995</td>\n",
                            "      <td>192.602753</td>\n",
                            "    </tr>\n",
                            "    <tr>\n",
                            "      <th>2021-07-30</th>\n",
                            "      <td>194.990005</td>\n",
                            "      <td>194.699887</td>\n",
                            "    </tr>\n",
                            "    <tr>\n",
                            "      <th>2021-08-02</th>\n",
                            "      <td>197.500000</td>\n",
                            "      <td>195.108783</td>\n",
                            "    </tr>\n",
                            "    <tr>\n",
                            "      <th>2021-08-03</th>\n",
                            "      <td>198.149994</td>\n",
                            "      <td>196.489871</td>\n",
                            "    </tr>\n",
                            "  </tbody>\n",
                            "</table>\n",
                            "<p>273 rows × 2 columns</p>\n",
                            "</div>"
                        ],
                        "text/plain": [
                            "                 Close  predictions\n",
                            "Date                               \n",
                            "2020-07-06   98.392502    97.436215\n",
                            "2020-07-07   98.717499    99.011699\n",
                            "2020-07-08  102.160004   100.006567\n",
                            "2020-07-09  105.089996   102.296047\n",
                            "2020-07-10  104.792503   105.648825\n",
                            "...                ...          ...\n",
                            "2021-07-28  195.029999   190.244574\n",
                            "2021-07-29  196.619995   192.602753\n",
                            "2021-07-30  194.990005   194.699887\n",
                            "2021-08-02  197.500000   195.108783\n",
                            "2021-08-03  198.149994   196.489871\n",
                            "\n",
                            "[273 rows x 2 columns]"
                        ]
                    },
                    "execution_count": 93,
                    "metadata": {},
                    "output_type": "execute_result"
                }
            ],
            "source": [
                "test_result"
            ]
        },
        {
            "cell_type": "code",
            "execution_count": 94,
            "metadata": {},
            "outputs": [
                {
                    "data": {
                        "text/plain": [
                            "17.92800210559881"
                        ]
                    },
                    "execution_count": 94,
                    "metadata": {},
                    "output_type": "execute_result"
                }
            ],
            "source": [
                "mse = mean_squared_error(y_true=test_result['Close'], y_pred=test_result['predictions'])\n",
                "mse\n",
                "#mse of ~90 is decent."
            ]
        },
        {
            "cell_type": "markdown",
            "metadata": {},
            "source": [
                "This machine learning techniques using Keras can be quite inconsistent. Sometimes when I run it, the results would differ from another. Nevertheless, it is quite good and can be trained relatively quickly. "
            ]
        },
        {
            "cell_type": "markdown",
            "metadata": {},
            "source": [
                "#test"
            ]
        },
        {
            "cell_type": "markdown",
            "metadata": {},
            "source": []
        }
    ],
    "metadata": {
        "interpreter": {
            "hash": "948d0881d054978e3a7b504d13b39c051c9f9e69f0cf604d08462f6eebeaf8eb"
        },
        "kernelspec": {
            "display_name": "Python 3.9.2 64-bit",
            "name": "python3"
        },
        "language_info": {
            "codemirror_mode": {
                "name": "ipython",
                "version": 3
            },
            "file_extension": ".py",
            "mimetype": "text/x-python",
            "name": "python",
            "nbconvert_exporter": "python",
            "pygments_lexer": "ipython3",
            "version": "3.9.2"
        },
        "orig_nbformat": 4
    },
    "nbformat": 4,
    "nbformat_minor": 2
}
